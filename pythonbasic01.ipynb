{
  "nbformat": 4,
  "nbformat_minor": 0,
  "metadata": {
    "colab": {
      "name": "pythonbasic01.ipynb",
      "provenance": [],
      "authorship_tag": "ABX9TyPHhlDxH9Q134D2Nzl8IVsc",
      "include_colab_link": true
    },
    "kernelspec": {
      "name": "python3",
      "display_name": "Python 3"
    },
    "language_info": {
      "name": "python"
    }
  },
  "cells": [
    {
      "cell_type": "markdown",
      "metadata": {
        "id": "view-in-github",
        "colab_type": "text"
      },
      "source": [
        "<a href=\"https://colab.research.google.com/github/leekwanghun323/python/blob/main/pythonbasic01.ipynb\" target=\"_parent\"><img src=\"https://colab.research.google.com/assets/colab-badge.svg\" alt=\"Open In Colab\"/></a>"
      ]
    },
    {
      "cell_type": "code",
      "execution_count": 2,
      "metadata": {
        "colab": {
          "base_uri": "https://localhost:8080/"
        },
        "id": "F1eRKDF8AEr9",
        "outputId": "bfa61b79-6e70-483d-bb7c-f4eb1995c15e"
      },
      "outputs": [
        {
          "output_type": "stream",
          "name": "stdout",
          "text": [
            "hello world\n"
          ]
        }
      ],
      "source": [
        "print(\"hello world\")"
      ]
    },
    {
      "cell_type": "code",
      "source": [
        "# 1 기본 - 특징\n",
        "\n",
        "# 인터프리터 - 파이썬, R\n",
        "# 컴파일러 - 자바 C, C++\n",
        "\n",
        "# 파이선은 영어와 문법이 아주 유사하여 사람이 이해하기 쉽다. \n",
        "# 많은 개발자가 참여하여 무료로 공유되는 코드가 많다.\n",
        "\n",
        "# 창시자 - 귀도반로썸(1956~) 네덜란드 구글 -> 드랍박스(클라우드 원조) -> 마이크로소프트\n",
        "\n",
        "# 특징 \n",
        "# 1. 사용이 쉽다.\n",
        "# 2. 강력하다.\n",
        "# 3. 객체지향언어\n",
        "# 4. 어디에서나 실행된다.\n",
        "# 5. 사용자가 많다.\n",
        "# 6. 무료이다. "
      ],
      "metadata": {
        "id": "mLxvqaVTS71N"
      },
      "execution_count": null,
      "outputs": []
    },
    {
      "cell_type": "code",
      "source": [
        "# 온라인 개발환경 \n",
        "# 코랩(파이썬 할때 좋음) - colab\n",
        "# 리플 - repl\n",
        "# 구름(한국에서 만듬)"
      ],
      "metadata": {
        "id": "O-HgJl_VU4SW"
      },
      "execution_count": null,
      "outputs": []
    },
    {
      "cell_type": "code",
      "source": [
        "# 오프라인 개발환경\n",
        "# FM - 파이썬 : 파이참\n",
        "# 강사추천 - Anaconda.com : 파이썬 + jupyter notebook 설치됨"
      ],
      "metadata": {
        "id": "hpHJ7nhbVp1j"
      },
      "execution_count": null,
      "outputs": []
    },
    {
      "cell_type": "code",
      "source": [
        "# 개발환경\n",
        "\n",
        "print(\"hello world\")"
      ],
      "metadata": {
        "colab": {
          "base_uri": "https://localhost:8080/"
        },
        "id": "zNruBGDqcWbE",
        "outputId": "47f62057-4d3d-4143-8aaf-34fbb3ce1d6d"
      },
      "execution_count": 4,
      "outputs": [
        {
          "output_type": "stream",
          "name": "stdout",
          "text": [
            "hello world\n"
          ]
        }
      ]
    },
    {
      "cell_type": "code",
      "source": [
        "#6. 기초 - 주석/변수 Comment/Variable\n",
        "\n",
        "# 자바주석 // /* */ 처럼 파이썬에서는 #를 주석 기호로 사용한다.\n",
        "# \"\"\"    \"\"\" 삼중 따옴표로 여러줄 주석 처럼 사용한다. -> docstring\n",
        "\n",
        "\"\"\"\n",
        "프로그램 버전 : 0.1버전\n",
        "프로그램 작성자 : 이광훈\n",
        "프로그램 작성일 : 2022/05/31\n",
        "\"\"\"\n",
        "#위에\n",
        "print(\"hello\") #우측에\n",
        "#하단에\n",
        "\n",
        "# 주석의 또다른 용법 :\n",
        "# 1. 원래 주석의 기본적인 의미는 코드에 대한 설명이다.  \n",
        "# 2. 주석의 또 다른 중요한 용법은 코드의 일부를 일시 정지시키는 용도로 사용한다. \n",
        "\n",
        "print(\"hello\")\n",
        "# print(\"world\") # 코드에 주석을 사용하여 임시로 동작을 하지 않게 만드는 역할을 한다.\n",
        "print(\"python\")\n",
        "\n"
      ],
      "metadata": {
        "id": "Eb9LchK4ikbK"
      },
      "execution_count": null,
      "outputs": []
    },
    {
      "cell_type": "code",
      "source": [
        "# 변수\n",
        "\n",
        "# 자바 : int age = 21;\n",
        "# 파이썬 : age = 21\n",
        "\n",
        "# 파이썬은 \n",
        "# 자바나 씨 등의 언어와는 달리 변수를 선언할 때 앞에서 형을 정해주지 않는다.\n",
        "# 선언과 동시에 파이썬이 데이터를 알아서 정수인지 문자열인지 판단하여 저장한다.\n",
        "# 큰 따옴표와 작은 따옴표는 동일하게 사용된다. 그러나 기호로써의 작은 따옴표를 표시할때는 큰 따옴표로 감싸준다. print(\"apple's\") -> print('apple\\'s )\n",
        "\n",
        "age = 21\n",
        "name = \"홍길동\"\n",
        "age, name = 21, \"홍길동\"\n",
        "\n",
        "type(name)\n",
        "\n",
        "# 변수명 선언 방법/규칙\n",
        "# 1. 문자 숫자 _만 사용 \n",
        "# 2. 숫자로 시작할수는 없다. A100(O), 100A(X)\n",
        "# 3. 예약어는 사용할 수 없다. print, class... (X)\n",
        "# 4. 대소 문자를 구분한다. a= 100, A = 100 별개의 변수\n",
        "# 5. 변수명은 영어로만 만들자(근데 한글로도 만들수는 있다. )"
      ],
      "metadata": {
        "colab": {
          "base_uri": "https://localhost:8080/"
        },
        "id": "idt2blWwk00v",
        "outputId": "e947a737-5cb5-443d-9214-c85e0daaceab"
      },
      "execution_count": 8,
      "outputs": [
        {
          "output_type": "execute_result",
          "data": {
            "text/plain": [
              "str"
            ]
          },
          "metadata": {},
          "execution_count": 8
        }
      ]
    },
    {
      "cell_type": "code",
      "source": [
        "# Korea 라는 변수명에 주식가격인 63000을 할당하고\n",
        "# 100주를 보유하고 있을때 평가 금액을 계산하시오\n",
        "\n",
        "korea = 100\n",
        "total = korea * 100"
      ],
      "metadata": {
        "id": "JLViZJX-oLlD"
      },
      "execution_count": null,
      "outputs": []
    },
    {
      "cell_type": "code",
      "source": [
        "# 7 기초 - 기본 자료형 data Type\n",
        "\n",
        "# 숫자형\n",
        "\n",
        "a = 3\n",
        "b = 3.14\n",
        "c = -2 \n",
        "\n",
        "type(c)"
      ],
      "metadata": {
        "colab": {
          "base_uri": "https://localhost:8080/"
        },
        "id": "UzQxWLLRs9jq",
        "outputId": "7a2a8d2d-09eb-46ef-929b-8b0b99b8f0ad"
      },
      "execution_count": 10,
      "outputs": [
        {
          "output_type": "execute_result",
          "data": {
            "text/plain": [
              "int"
            ]
          },
          "metadata": {},
          "execution_count": 10
        }
      ]
    },
    {
      "cell_type": "code",
      "source": [
        "42 / 4"
      ],
      "metadata": {
        "colab": {
          "base_uri": "https://localhost:8080/"
        },
        "id": "DXs2GWO7tYeY",
        "outputId": "c06180a1-53bd-42da-f534-6239f296443c"
      },
      "execution_count": 11,
      "outputs": [
        {
          "output_type": "execute_result",
          "data": {
            "text/plain": [
              "10.5"
            ]
          },
          "metadata": {},
          "execution_count": 11
        }
      ]
    },
    {
      "cell_type": "code",
      "source": [
        "43 // 4"
      ],
      "metadata": {
        "colab": {
          "base_uri": "https://localhost:8080/"
        },
        "id": "9iznFw6Ctd92",
        "outputId": "5856d812-906c-41a6-a359-b4b3ccd0125f"
      },
      "execution_count": 12,
      "outputs": [
        {
          "output_type": "execute_result",
          "data": {
            "text/plain": [
              "10"
            ]
          },
          "metadata": {},
          "execution_count": 12
        }
      ]
    },
    {
      "cell_type": "code",
      "source": [
        " 43 % 4  # % 나머지 연산자로 홀수/짝수/배수를 알아낼 수 있다."
      ],
      "metadata": {
        "colab": {
          "base_uri": "https://localhost:8080/"
        },
        "id": "SeMcv6mZth-6",
        "outputId": "829ef0c7-1b66-40c1-8638-aa1e92ad7869"
      },
      "execution_count": 14,
      "outputs": [
        {
          "output_type": "execute_result",
          "data": {
            "text/plain": [
              "3"
            ]
          },
          "metadata": {},
          "execution_count": 14
        }
      ]
    },
    {
      "cell_type": "code",
      "source": [
        "# bool or boolean -> True or False  앞자를 대문자로 주의 : true false와는 다르다. !!\n",
        "\n",
        "1 == 1"
      ],
      "metadata": {
        "colab": {
          "base_uri": "https://localhost:8080/"
        },
        "id": "_htv9AWuuqk8",
        "outputId": "706143a2-71f4-4c49-b5cc-b4b8a5125eda"
      },
      "execution_count": 15,
      "outputs": [
        {
          "output_type": "execute_result",
          "data": {
            "text/plain": [
              "True"
            ]
          },
          "metadata": {},
          "execution_count": 15
        }
      ]
    },
    {
      "cell_type": "code",
      "source": [
        "1 != 1"
      ],
      "metadata": {
        "colab": {
          "base_uri": "https://localhost:8080/"
        },
        "id": "kQV_MKprvCFe",
        "outputId": "8b94246a-e05f-4eae-e3e6-65b99eb6466e"
      },
      "execution_count": 16,
      "outputs": [
        {
          "output_type": "execute_result",
          "data": {
            "text/plain": [
              "False"
            ]
          },
          "metadata": {},
          "execution_count": 16
        }
      ]
    },
    {
      "cell_type": "code",
      "source": [
        "# 문자열\n",
        "name1 = \"Austin\"  # 파이썬에서는 큰 따옴표와\n",
        "name2 = 'Austin'  # 작은 따옴표 모두 문자열을 나타낸다.\n",
        "age1 = \"30\"        # 숫자라도 따옴표가 있으면 문자로 처리된다. \n",
        "age2 = 30          # 숫자는 따옴표가 없다. \n",
        "\n",
        "# 중요!!!\n",
        "# 문자열에서의 인덱싱 - 몇 번째 글자 하나\n",
        "words = \"I love you\"         # 어떤 물자열에서 글자하나만 추축 -> v\n",
        "print(words[4])\n",
        "\n",
        "# 파이썬에서의 독특한 인데싱 방법 , 마지막 한글자만 추출, 뒤부터는 -1 부터 센다.\n",
        "print(words[-1])\n",
        "\n",
        "\n",
        "# 문자열에서의 슬라이싱 - 글자 여러 개\n",
        "words = \"I love you\"\n",
        "words[2:6]            # [시작:끝(미만)]  [시작:끝(미만) : 증감]\n",
        "words[2:6:1]          # 증감은 생략 가능, 생략하면 1\n",
        "print(words[:6:1])    # 시작을 생략하면 0부터 시작\n",
        "print(words[2::1])    # 끝을 생략하면 마지막까지 \n",
        "print(words[::2])     # 하나씩 건너 띄워 인쇄\n",
        "\n",
        "\n",
        "\n",
        "# 문자열에서의 인덱싱과 슬라이싱 기법은 그대로 리스트와 튜플에서도 동일하게 사용된다. "
      ],
      "metadata": {
        "colab": {
          "base_uri": "https://localhost:8080/"
        },
        "id": "jHx6TU2qvGE4",
        "outputId": "a42fb8ca-0cdf-4b59-b7de-4fdd46037193"
      },
      "execution_count": 21,
      "outputs": [
        {
          "output_type": "stream",
          "name": "stdout",
          "text": [
            "v\n",
            "u\n",
            "I love\n",
            "love you\n",
            "Ilv o\n"
          ]
        }
      ]
    },
    {
      "cell_type": "code",
      "source": [
        "# love 문자열을 evol로 뒤집어서 출력\n",
        "str =\"love\"\n",
        "print(str[::-1])\n"
      ],
      "metadata": {
        "colab": {
          "base_uri": "https://localhost:8080/"
        },
        "id": "zRLqDV-ry7gC",
        "outputId": "6542742d-2698-47e7-eddc-e508afc2e50b"
      },
      "execution_count": 26,
      "outputs": [
        {
          "output_type": "stream",
          "name": "stdout",
          "text": [
            "evol\n"
          ]
        }
      ]
    },
    {
      "cell_type": "code",
      "source": [
        "#he is good. all the Time 문자열에서 time 만 출력\n",
        "str =\"he is good. all the Time\"\n",
        "print(str[-4::])"
      ],
      "metadata": {
        "colab": {
          "base_uri": "https://localhost:8080/"
        },
        "id": "AHwYSr3Ezees",
        "outputId": "6b77c0c7-9d68-4d59-f931-2ae9b827f7b3"
      },
      "execution_count": 35,
      "outputs": [
        {
          "output_type": "stream",
          "name": "stdout",
          "text": [
            "Time\n"
          ]
        }
      ]
    },
    {
      "cell_type": "code",
      "source": [
        "# 출력 print\n",
        "\n",
        "str = \"he is good. all the Time\"\n",
        "print(str)"
      ],
      "metadata": {
        "colab": {
          "base_uri": "https://localhost:8080/"
        },
        "id": "UxKH9PFI0cQP",
        "outputId": "7334d4b7-f979-4509-91f1-bcafa1fc0e10"
      },
      "execution_count": 42,
      "outputs": [
        {
          "output_type": "stream",
          "name": "stdout",
          "text": [
            "he is good. all the Time\n"
          ]
        }
      ]
    },
    {
      "cell_type": "code",
      "source": [
        "who =\"he\"\n",
        "print(who,\"is good, All the time\")      # ,로 붙여서 출력할 수 있다."
      ],
      "metadata": {
        "colab": {
          "base_uri": "https://localhost:8080/"
        },
        "id": "fQkFrD-70yIp",
        "outputId": "dc1a4f32-259e-4791-da80-c199ccef547f"
      },
      "execution_count": 39,
      "outputs": [
        {
          "output_type": "stream",
          "name": "stdout",
          "text": [
            "he is good, All the time\n"
          ]
        }
      ]
    },
    {
      "cell_type": "code",
      "source": [
        "who =\"he\"\n",
        "print(\"%s is good, All the time\" % who)     # %s 자리표시자를 뒤에서 붙여쓸수도 있다."
      ],
      "metadata": {
        "colab": {
          "base_uri": "https://localhost:8080/"
        },
        "id": "1ZqqdrPL1Fxd",
        "outputId": "b19253bb-365d-473f-e0e2-1f1fbf72bfda"
      },
      "execution_count": 40,
      "outputs": [
        {
          "output_type": "stream",
          "name": "stdout",
          "text": [
            "he is good, All the time\n"
          ]
        }
      ]
    },
    {
      "cell_type": "code",
      "source": [
        "who =\"he\"\n",
        "print(\"{} is good, All the time\" .format(who))  # {} format(변수)"
      ],
      "metadata": {
        "colab": {
          "base_uri": "https://localhost:8080/"
        },
        "id": "rc2oKwKW1ZXw",
        "outputId": "5dcd95fe-311b-4611-b50c-8e4ba4a77e0f"
      },
      "execution_count": 41,
      "outputs": [
        {
          "output_type": "stream",
          "name": "stdout",
          "text": [
            "he is good, All the time\n"
          ]
        }
      ]
    },
    {
      "cell_type": "code",
      "source": [
        "who =\"He\"\n",
        "print(f' {who} is good, All the time')   # f'는 앞에다 한번만 써준다"
      ],
      "metadata": {
        "colab": {
          "base_uri": "https://localhost:8080/"
        },
        "id": "PV9hZFRv1tfY",
        "outputId": "0a382682-d524-4d24-b82f-40ee1f8cd71a"
      },
      "execution_count": 46,
      "outputs": [
        {
          "output_type": "stream",
          "name": "stdout",
          "text": [
            " He is good, All the time\n"
          ]
        }
      ]
    },
    {
      "cell_type": "code",
      "source": [
        "name =\"홍길동\"\n",
        "age = 20\n",
        "\n",
        "# 나의 이름은 홍길동이고 나이는 20살 입니다. \n",
        "\n",
        "print(\"나의 이름은\" f' {name}' \"이고, 나이는\" f'{age}' \"살 입니다.\")\n",
        "print(f\" 나의 이름은 {name} 이며, 나이는 {age} 살 입니다.\")"
      ],
      "metadata": {
        "colab": {
          "base_uri": "https://localhost:8080/"
        },
        "id": "hYJSM98H2FNg",
        "outputId": "bff2af20-2b07-495c-cf03-9edcd638dad3"
      },
      "execution_count": 55,
      "outputs": [
        {
          "output_type": "stream",
          "name": "stdout",
          "text": [
            "나의 이름은 홍길동이고, 나이는20살 입니다.\n",
            " 나의 이름은 홍길동 이며, 나이는 20 살 입니다.\n"
          ]
        }
      ]
    }
  ]
}