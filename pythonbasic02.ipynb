{
  "nbformat": 4,
  "nbformat_minor": 0,
  "metadata": {
    "colab": {
      "name": "pythonbasic02.ipynb",
      "provenance": [],
      "authorship_tag": "ABX9TyMJQdRlKPPYF/NP10ueYYkl",
      "include_colab_link": true
    },
    "kernelspec": {
      "name": "python3",
      "display_name": "Python 3"
    },
    "language_info": {
      "name": "python"
    }
  },
  "cells": [
    {
      "cell_type": "markdown",
      "metadata": {
        "id": "view-in-github",
        "colab_type": "text"
      },
      "source": [
        "<a href=\"https://colab.research.google.com/github/leekwanghun323/python/blob/main/pythonbasic02.ipynb\" target=\"_parent\"><img src=\"https://colab.research.google.com/assets/colab-badge.svg\" alt=\"Open In Colab\"/></a>"
      ]
    },
    {
      "cell_type": "code",
      "execution_count": 1,
      "metadata": {
        "colab": {
          "base_uri": "https://localhost:8080/",
          "height": 54
        },
        "id": "DvUybTwzy-qa",
        "outputId": "86905a5c-b8c9-4ce1-e51d-ea03099facae"
      },
      "outputs": [
        {
          "name": "stdout",
          "output_type": "stream",
          "text": [
            "ssss\n"
          ]
        },
        {
          "output_type": "execute_result",
          "data": {
            "text/plain": [
              "'ssss'"
            ],
            "application/vnd.google.colaboratory.intrinsic+json": {
              "type": "string"
            }
          },
          "metadata": {},
          "execution_count": 1
        }
      ],
      "source": [
        "# input 입력\n",
        "\n",
        "input() "
      ]
    },
    {
      "cell_type": "code",
      "source": [
        "input('당신의 이름을 입력하세요.')"
      ],
      "metadata": {
        "colab": {
          "base_uri": "https://localhost:8080/",
          "height": 54
        },
        "id": "Kmo0bOqA0cHn",
        "outputId": "460b0061-9e39-4676-e435-7ea406769df5"
      },
      "execution_count": 2,
      "outputs": [
        {
          "name": "stdout",
          "output_type": "stream",
          "text": [
            "당신의 이름을 입력하세요.이광훈\n"
          ]
        },
        {
          "output_type": "execute_result",
          "data": {
            "text/plain": [
              "'이광훈'"
            ],
            "application/vnd.google.colaboratory.intrinsic+json": {
              "type": "string"
            }
          },
          "metadata": {},
          "execution_count": 2
        }
      ]
    },
    {
      "cell_type": "code",
      "source": [
        "id = input('아이디를 입력하세요')"
      ],
      "metadata": {
        "colab": {
          "base_uri": "https://localhost:8080/"
        },
        "id": "0qJFoUjY0xwr",
        "outputId": "7a456151-d386-4bdc-825f-b52414dff946"
      },
      "execution_count": 3,
      "outputs": [
        {
          "name": "stdout",
          "output_type": "stream",
          "text": [
            "아이디를 입력하세요ㄹㄹ\n"
          ]
        }
      ]
    },
    {
      "cell_type": "code",
      "source": [
        "id = input('아이디를 입력하세요')\n",
        "print(f'{id} 님 환영합니다.')"
      ],
      "metadata": {
        "colab": {
          "base_uri": "https://localhost:8080/"
        },
        "id": "_wHgXY-b07xA",
        "outputId": "58fa4542-cf53-4445-e095-b1720839bafe"
      },
      "execution_count": 4,
      "outputs": [
        {
          "output_type": "stream",
          "name": "stdout",
          "text": [
            "아이디를 입력하세요3434343\n",
            "3434343 님 환영합니다.\n"
          ]
        }
      ]
    },
    {
      "cell_type": "code",
      "source": [
        "age = input('당신의 나이를 입력하세요')\n",
        "print(f' 당신의 나이는 {age}살 입니다.')"
      ],
      "metadata": {
        "colab": {
          "base_uri": "https://localhost:8080/"
        },
        "id": "F8dWu8wb1Iii",
        "outputId": "02e22570-977e-454d-e789-e19c8d0a5af5"
      },
      "execution_count": 5,
      "outputs": [
        {
          "output_type": "stream",
          "name": "stdout",
          "text": [
            "당신의 나이를 입력하세요545\n",
            " 당신의 나이는 545입니다.\n"
          ]
        }
      ]
    },
    {
      "cell_type": "code",
      "source": [
        "age = input('당신의 나이를 입력하세요')\n",
        "print(f' 당신의 내년 나이는 {age+1}살 입니다.')\n",
        "\n",
        "# input 주의점\n",
        "# 언제나 항상 입력받은 모든 데이터를 문자취급한다.\n",
        "# 따라서 숫자로 사용을 하고자 할때는 형변환 casting를 해주어야 계산이 가능해진다."
      ],
      "metadata": {
        "colab": {
          "base_uri": "https://localhost:8080/",
          "height": 137
        },
        "id": "MZJDMXul1Xt5",
        "outputId": "0e49ff2b-f642-44d0-a284-8bfa20ebaa1e"
      },
      "execution_count": 7,
      "outputs": [
        {
          "output_type": "error",
          "ename": "SyntaxError",
          "evalue": "ignored",
          "traceback": [
            "\u001b[0;36m  File \u001b[0;32m\"<ipython-input-7-2f89fbc9e876>\"\u001b[0;36m, line \u001b[0;32m2\u001b[0m\n\u001b[0;31m    print(f' 당신의 내년 나이는 {age+'1'}살 입니다.')\u001b[0m\n\u001b[0m                              ^\u001b[0m\n\u001b[0;31mSyntaxError\u001b[0m\u001b[0;31m:\u001b[0m invalid syntax\n"
          ]
        }
      ]
    },
    {
      "cell_type": "code",
      "source": [
        "age = int(input('당신의 나이를 입력하세요'))\n",
        "print(type(age))\n",
        "print(f' 당신의 내년 나이는 {age+1}살 입니다.')"
      ],
      "metadata": {
        "colab": {
          "base_uri": "https://localhost:8080/"
        },
        "id": "dc6wAcAo1mhk",
        "outputId": "1feb86e3-7a0b-4fc4-cfba-3fac1c81736c"
      },
      "execution_count": 8,
      "outputs": [
        {
          "output_type": "stream",
          "name": "stdout",
          "text": [
            "당신의 나이를 입력하세요21\n",
            "<class 'int'>\n",
            " 당신의 내년 나이는 22살 입니다.\n"
          ]
        }
      ]
    },
    {
      "cell_type": "code",
      "source": [
        "# 컬렉션 list tuple dict set                          *** dataframe(데이터 분석할때)\n",
        "# 여러개의 데이터를 담아두는 자료형\n",
        "\n",
        "\n",
        "# 리스트(list) 제일 중요함!!!\n",
        "# 1. 리스트는 []를 사용하여 만든다.\n",
        "# 2. 리스트는 자료형을 혼합하여 저장할 수도 있다.(장점이면서 단점이다. 왜냐하면 오류날 확률이 높다.) 한가지 자료형에는 한가지 자료형만!! \n",
        "# 3. 리스트는 인덱싱과 슬라이싱이 가능하다.\n",
        "# 4. 리스트에서는 삽입/삭제/수정이 가능하다.\n",
        "\n",
        "# 리스트를 사용하면 2,4,6,8,10 ... 여러 데이터의 모음을 간단하게 표현할 수 있다. \n",
        "\n",
        "num = [2,4,6,8,10]\n",
        "print(num) \n",
        "\n",
        "li1 = [1,2,'영희','철수']\n",
        "print(li1)\n",
        "\n",
        "\n"
      ],
      "metadata": {
        "colab": {
          "base_uri": "https://localhost:8080/"
        },
        "id": "s-V5v3vW2rvH",
        "outputId": "6d185e0c-dd31-4618-c65b-bef2a2cc592c"
      },
      "execution_count": 14,
      "outputs": [
        {
          "output_type": "stream",
          "name": "stdout",
          "text": [
            "[2, 4, 6, 8, 10]\n",
            "[1, 2, '영희', '철수']\n"
          ]
        }
      ]
    },
    {
      "cell_type": "code",
      "source": [
        "# 리스트에서의 인덱싱과 슬라이싱(중요함~!!)\n",
        "\n",
        "num = [2,4,6,8,10]\n",
        "print(num[-1])"
      ],
      "metadata": {
        "colab": {
          "base_uri": "https://localhost:8080/"
        },
        "id": "h9kihIYM8EaH",
        "outputId": "b515d61b-9307-4275-d65d-1f98e1851d11"
      },
      "execution_count": 13,
      "outputs": [
        {
          "output_type": "stream",
          "name": "stdout",
          "text": [
            "10\n"
          ]
        }
      ]
    },
    {
      "cell_type": "code",
      "source": [
        "print(num[0] + num[-1])"
      ],
      "metadata": {
        "colab": {
          "base_uri": "https://localhost:8080/"
        },
        "id": "N9mKcZXv8oh6",
        "outputId": "a8132a48-915a-412b-955f-592a1965a02f"
      },
      "execution_count": 15,
      "outputs": [
        {
          "output_type": "stream",
          "name": "stdout",
          "text": [
            "12\n"
          ]
        }
      ]
    },
    {
      "cell_type": "code",
      "source": [
        "li1 = [1,2, 'a', 'b', [1,2,3]]\n",
        "print(li1[-1][0])"
      ],
      "metadata": {
        "colab": {
          "base_uri": "https://localhost:8080/"
        },
        "id": "4ou08has8y1M",
        "outputId": "3b23ee3a-f2d0-4246-ae95-e193f571b686"
      },
      "execution_count": 18,
      "outputs": [
        {
          "output_type": "stream",
          "name": "stdout",
          "text": [
            "1\n"
          ]
        }
      ]
    },
    {
      "cell_type": "code",
      "source": [
        "# 리스트에서의 슬라이싱\n",
        "\n",
        "num = [2,4,6,8,10]\n",
        "print(num[0:3])        # [시작:끝(미만):증감(생략가능)]  증감은 생략하면 1씩 증가\n",
        "print(num[:3])         # 시작을 생략하면 처음부터이고, 끝을 생략하면 마지막 요소까지"
      ],
      "metadata": {
        "colab": {
          "base_uri": "https://localhost:8080/"
        },
        "id": "ny2gvV-69T_8",
        "outputId": "b3af51f0-39e5-47b0-e6e5-25366591fb94"
      },
      "execution_count": 20,
      "outputs": [
        {
          "output_type": "stream",
          "name": "stdout",
          "text": [
            "[2, 4, 6]\n",
            "[2, 4, 6]\n"
          ]
        }
      ]
    },
    {
      "cell_type": "code",
      "source": [
        "# 리스트에서의 연산\n",
        "\n",
        "a = [1,2,3]\n",
        "print(a*3)"
      ],
      "metadata": {
        "colab": {
          "base_uri": "https://localhost:8080/"
        },
        "id": "DH0MqRBI-Qs9",
        "outputId": "10d52fc6-47cc-46a8-fe9b-9c610f9a4f2b"
      },
      "execution_count": 21,
      "outputs": [
        {
          "output_type": "stream",
          "name": "stdout",
          "text": [
            "[1, 2, 3, 1, 2, 3, 1, 2, 3]\n"
          ]
        }
      ]
    },
    {
      "cell_type": "code",
      "source": [
        "# 리스트의 길이(갯수)\n",
        "\n",
        "num = [2,4,6,8,10]\n",
        "print(len(num))"
      ],
      "metadata": {
        "colab": {
          "base_uri": "https://localhost:8080/"
        },
        "id": "Arnpk1H1-mu_",
        "outputId": "3f355894-443c-45f2-e357-80732dcac0fa"
      },
      "execution_count": 22,
      "outputs": [
        {
          "output_type": "stream",
          "name": "stdout",
          "text": [
            "5\n"
          ]
        }
      ]
    },
    {
      "cell_type": "code",
      "source": [
        "# 리스트에서는 삽입/삭제/수정이 가능하다\n",
        "\n",
        "# 수정\n",
        "num = [2,4,6,8,10]\n",
        "\n",
        "num[0] = 0\n",
        "print(num)\n",
        "\n",
        "# 삭제\n",
        "del num[0]\n",
        "print(num)\n",
        "\n",
        "del num[2:]          # 슬라이싱 기법을 사용하여 여러 요소를 한번에 삭제한다.\n",
        "print(num)\n",
        "\n",
        "\n"
      ],
      "metadata": {
        "colab": {
          "base_uri": "https://localhost:8080/"
        },
        "id": "0pEi5YJo-84c",
        "outputId": "bddb0064-3b83-443f-be4e-286f9acd38db"
      },
      "execution_count": 27,
      "outputs": [
        {
          "output_type": "stream",
          "name": "stdout",
          "text": [
            "[0, 4, 6, 8, 10]\n",
            "[4, 6, 8, 10]\n",
            "[4, 6]\n"
          ]
        }
      ]
    },
    {
      "cell_type": "code",
      "source": [
        "# 리스트에서의 삽입(append)\n",
        "\n",
        "a=[1,2,3]\n",
        "print(a)\n",
        "\n",
        "a.append(4)\n",
        "print(a)"
      ],
      "metadata": {
        "colab": {
          "base_uri": "https://localhost:8080/"
        },
        "id": "5F2XKjbAAL15",
        "outputId": "2d46cd30-2da8-4c8d-b727-acd620669a14"
      },
      "execution_count": 28,
      "outputs": [
        {
          "output_type": "stream",
          "name": "stdout",
          "text": [
            "[1, 2, 3]\n",
            "[1, 2, 3, 4]\n"
          ]
        }
      ]
    }
  ]
}