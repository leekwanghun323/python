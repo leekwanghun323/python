{
  "nbformat": 4,
  "nbformat_minor": 0,
  "metadata": {
    "colab": {
      "name": "pythonbasic02.ipynb",
      "provenance": [],
      "authorship_tag": "ABX9TyOn48DeacjgaE7HE2MJoPRX",
      "include_colab_link": true
    },
    "kernelspec": {
      "name": "python3",
      "display_name": "Python 3"
    },
    "language_info": {
      "name": "python"
    }
  },
  "cells": [
    {
      "cell_type": "markdown",
      "metadata": {
        "id": "view-in-github",
        "colab_type": "text"
      },
      "source": [
        "<a href=\"https://colab.research.google.com/github/leekwanghun323/python/blob/main/pythonbasic02.ipynb\" target=\"_parent\"><img src=\"https://colab.research.google.com/assets/colab-badge.svg\" alt=\"Open In Colab\"/></a>"
      ]
    },
    {
      "cell_type": "code",
      "execution_count": 1,
      "metadata": {
        "colab": {
          "base_uri": "https://localhost:8080/",
          "height": 54
        },
        "id": "DvUybTwzy-qa",
        "outputId": "86905a5c-b8c9-4ce1-e51d-ea03099facae"
      },
      "outputs": [
        {
          "name": "stdout",
          "output_type": "stream",
          "text": [
            "ssss\n"
          ]
        },
        {
          "output_type": "execute_result",
          "data": {
            "text/plain": [
              "'ssss'"
            ],
            "application/vnd.google.colaboratory.intrinsic+json": {
              "type": "string"
            }
          },
          "metadata": {},
          "execution_count": 1
        }
      ],
      "source": [
        "# input 입력\n",
        "\n",
        "input() "
      ]
    },
    {
      "cell_type": "code",
      "source": [
        "input('당신의 이름을 입력하세요.')"
      ],
      "metadata": {
        "colab": {
          "base_uri": "https://localhost:8080/",
          "height": 54
        },
        "id": "Kmo0bOqA0cHn",
        "outputId": "460b0061-9e39-4676-e435-7ea406769df5"
      },
      "execution_count": 2,
      "outputs": [
        {
          "name": "stdout",
          "output_type": "stream",
          "text": [
            "당신의 이름을 입력하세요.이광훈\n"
          ]
        },
        {
          "output_type": "execute_result",
          "data": {
            "text/plain": [
              "'이광훈'"
            ],
            "application/vnd.google.colaboratory.intrinsic+json": {
              "type": "string"
            }
          },
          "metadata": {},
          "execution_count": 2
        }
      ]
    },
    {
      "cell_type": "code",
      "source": [
        "id = input('아이디를 입력하세요')"
      ],
      "metadata": {
        "colab": {
          "base_uri": "https://localhost:8080/"
        },
        "id": "0qJFoUjY0xwr",
        "outputId": "7a456151-d386-4bdc-825f-b52414dff946"
      },
      "execution_count": 3,
      "outputs": [
        {
          "name": "stdout",
          "output_type": "stream",
          "text": [
            "아이디를 입력하세요ㄹㄹ\n"
          ]
        }
      ]
    },
    {
      "cell_type": "code",
      "source": [
        "id = input('아이디를 입력하세요')\n",
        "print(f'{id} 님 환영합니다.')"
      ],
      "metadata": {
        "colab": {
          "base_uri": "https://localhost:8080/"
        },
        "id": "_wHgXY-b07xA",
        "outputId": "58fa4542-cf53-4445-e095-b1720839bafe"
      },
      "execution_count": 4,
      "outputs": [
        {
          "output_type": "stream",
          "name": "stdout",
          "text": [
            "아이디를 입력하세요3434343\n",
            "3434343 님 환영합니다.\n"
          ]
        }
      ]
    },
    {
      "cell_type": "code",
      "source": [
        "age = input('당신의 나이를 입력하세요')\n",
        "print(f' 당신의 나이는 {age}살 입니다.')"
      ],
      "metadata": {
        "colab": {
          "base_uri": "https://localhost:8080/"
        },
        "id": "F8dWu8wb1Iii",
        "outputId": "02e22570-977e-454d-e789-e19c8d0a5af5"
      },
      "execution_count": 5,
      "outputs": [
        {
          "output_type": "stream",
          "name": "stdout",
          "text": [
            "당신의 나이를 입력하세요545\n",
            " 당신의 나이는 545입니다.\n"
          ]
        }
      ]
    },
    {
      "cell_type": "code",
      "source": [
        "age = input('당신의 나이를 입력하세요')\n",
        "print(f' 당신의 내년 나이는 {age+1}살 입니다.')\n",
        "\n",
        "# input 주의점\n",
        "# 언제나 항상 입력받은 모든 데이터를 문자취급한다.\n",
        "# 따라서 숫자로 사용을 하고자 할때는 형변환 casting를 해주어야 계산이 가능해진다."
      ],
      "metadata": {
        "colab": {
          "base_uri": "https://localhost:8080/",
          "height": 137
        },
        "id": "MZJDMXul1Xt5",
        "outputId": "0e49ff2b-f642-44d0-a284-8bfa20ebaa1e"
      },
      "execution_count": 7,
      "outputs": [
        {
          "output_type": "error",
          "ename": "SyntaxError",
          "evalue": "ignored",
          "traceback": [
            "\u001b[0;36m  File \u001b[0;32m\"<ipython-input-7-2f89fbc9e876>\"\u001b[0;36m, line \u001b[0;32m2\u001b[0m\n\u001b[0;31m    print(f' 당신의 내년 나이는 {age+'1'}살 입니다.')\u001b[0m\n\u001b[0m                              ^\u001b[0m\n\u001b[0;31mSyntaxError\u001b[0m\u001b[0;31m:\u001b[0m invalid syntax\n"
          ]
        }
      ]
    },
    {
      "cell_type": "code",
      "source": [
        "age = int(input('당신의 나이를 입력하세요'))\n",
        "print(type(age))\n",
        "print(f' 당신의 내년 나이는 {age+1}살 입니다.')"
      ],
      "metadata": {
        "colab": {
          "base_uri": "https://localhost:8080/"
        },
        "id": "dc6wAcAo1mhk",
        "outputId": "1feb86e3-7a0b-4fc4-cfba-3fac1c81736c"
      },
      "execution_count": 8,
      "outputs": [
        {
          "output_type": "stream",
          "name": "stdout",
          "text": [
            "당신의 나이를 입력하세요21\n",
            "<class 'int'>\n",
            " 당신의 내년 나이는 22살 입니다.\n"
          ]
        }
      ]
    },
    {
      "cell_type": "code",
      "source": [
        "# 컬렉션 list tuple dict set                          *** dataframe(데이터 분석할때)\n",
        "# 여러개의 데이터를 담아두는 자료형\n",
        "\n",
        "\n",
        "# 리스트(list) 제일 중요함!!!\n",
        "# 1. 리스트는 []를 사용하여 만든다.\n",
        "# 2. 리스트는 자료형을 혼합하여 저장할 수도 있다.(장점이면서 단점이다. 왜냐하면 오류날 확률이 높다.) 한가지 자료형에는 한가지 자료형만!! \n",
        "# 3. 리스트는 인덱싱과 슬라이싱이 가능하다.\n",
        "# 4. 리스트에서는 삽입/삭제/수정이 가능하다.\n",
        "\n",
        "# 리스트를 사용하면 2,4,6,8,10 ... 여러 데이터의 모음을 간단하게 표현할 수 있다. \n",
        "\n",
        "num = [2,4,6,8,10]\n",
        "print(num) \n",
        "\n",
        "li1 = [1,2,'영희','철수']\n",
        "print(li1)\n",
        "\n",
        "\n"
      ],
      "metadata": {
        "colab": {
          "base_uri": "https://localhost:8080/"
        },
        "id": "s-V5v3vW2rvH",
        "outputId": "6d185e0c-dd31-4618-c65b-bef2a2cc592c"
      },
      "execution_count": 14,
      "outputs": [
        {
          "output_type": "stream",
          "name": "stdout",
          "text": [
            "[2, 4, 6, 8, 10]\n",
            "[1, 2, '영희', '철수']\n"
          ]
        }
      ]
    },
    {
      "cell_type": "code",
      "source": [
        "# 리스트에서의 인덱싱과 슬라이싱(중요함~!!)\n",
        "\n",
        "num = [2,4,6,8,10]\n",
        "print(num[-1])"
      ],
      "metadata": {
        "colab": {
          "base_uri": "https://localhost:8080/"
        },
        "id": "h9kihIYM8EaH",
        "outputId": "b515d61b-9307-4275-d65d-1f98e1851d11"
      },
      "execution_count": 13,
      "outputs": [
        {
          "output_type": "stream",
          "name": "stdout",
          "text": [
            "10\n"
          ]
        }
      ]
    },
    {
      "cell_type": "code",
      "source": [
        "print(num[0] + num[-1])"
      ],
      "metadata": {
        "colab": {
          "base_uri": "https://localhost:8080/"
        },
        "id": "N9mKcZXv8oh6",
        "outputId": "a8132a48-915a-412b-955f-592a1965a02f"
      },
      "execution_count": 15,
      "outputs": [
        {
          "output_type": "stream",
          "name": "stdout",
          "text": [
            "12\n"
          ]
        }
      ]
    },
    {
      "cell_type": "code",
      "source": [
        "li1 = [1,2, 'a', 'b', [1,2,3]]\n",
        "print(li1[-1][0])"
      ],
      "metadata": {
        "colab": {
          "base_uri": "https://localhost:8080/"
        },
        "id": "4ou08has8y1M",
        "outputId": "3b23ee3a-f2d0-4246-ae95-e193f571b686"
      },
      "execution_count": 18,
      "outputs": [
        {
          "output_type": "stream",
          "name": "stdout",
          "text": [
            "1\n"
          ]
        }
      ]
    },
    {
      "cell_type": "code",
      "source": [
        "# 리스트에서의 슬라이싱\n",
        "\n",
        "num = [2,4,6,8,10]\n",
        "print(num[0:3])        # [시작:끝(미만):증감(생략가능)]  증감은 생략하면 1씩 증가\n",
        "print(num[:3])         # 시작을 생략하면 처음부터이고, 끝을 생략하면 마지막 요소까지"
      ],
      "metadata": {
        "colab": {
          "base_uri": "https://localhost:8080/"
        },
        "id": "ny2gvV-69T_8",
        "outputId": "b3af51f0-39e5-47b0-e6e5-25366591fb94"
      },
      "execution_count": 20,
      "outputs": [
        {
          "output_type": "stream",
          "name": "stdout",
          "text": [
            "[2, 4, 6]\n",
            "[2, 4, 6]\n"
          ]
        }
      ]
    },
    {
      "cell_type": "code",
      "source": [
        "# 리스트에서의 연산\n",
        "\n",
        "a = [1,2,3]\n",
        "print(a*3)"
      ],
      "metadata": {
        "colab": {
          "base_uri": "https://localhost:8080/"
        },
        "id": "DH0MqRBI-Qs9",
        "outputId": "10d52fc6-47cc-46a8-fe9b-9c610f9a4f2b"
      },
      "execution_count": 21,
      "outputs": [
        {
          "output_type": "stream",
          "name": "stdout",
          "text": [
            "[1, 2, 3, 1, 2, 3, 1, 2, 3]\n"
          ]
        }
      ]
    },
    {
      "cell_type": "code",
      "source": [
        "# 리스트의 길이(갯수)\n",
        "\n",
        "num = [2,4,6,8,10]\n",
        "print(len(num))"
      ],
      "metadata": {
        "colab": {
          "base_uri": "https://localhost:8080/"
        },
        "id": "Arnpk1H1-mu_",
        "outputId": "3f355894-443c-45f2-e357-80732dcac0fa"
      },
      "execution_count": 22,
      "outputs": [
        {
          "output_type": "stream",
          "name": "stdout",
          "text": [
            "5\n"
          ]
        }
      ]
    },
    {
      "cell_type": "code",
      "source": [
        "# 리스트에서는 삽입/삭제/수정이 가능하다\n",
        "\n",
        "# 수정\n",
        "num = [2,4,6,8,10]\n",
        "\n",
        "num[0] = 0\n",
        "print(num)\n",
        "\n",
        "# 삭제\n",
        "del num[0]\n",
        "print(num)\n",
        "\n",
        "del num[2:]          # 슬라이싱 기법을 사용하여 여러 요소를 한번에 삭제한다.\n",
        "print(num)\n",
        "\n",
        "num.pop()            # pop는 마지막 항목을 하나씩 제거, 괄호안을 생략 -> 마지막 1개 삭제\n",
        "print(num)\n",
        "\n",
        "num = [2,4,6,8,10]\n",
        "num.pop(0)           # 괄호안을 생략하면 마지막 요소를 날리지만 위치값을 지정하면 그 요소를 삭제\n",
        "print(num)\n"
      ],
      "metadata": {
        "colab": {
          "base_uri": "https://localhost:8080/"
        },
        "id": "0pEi5YJo-84c",
        "outputId": "b8d98df7-d111-4702-d40e-90681d1c949b"
      },
      "execution_count": 32,
      "outputs": [
        {
          "output_type": "stream",
          "name": "stdout",
          "text": [
            "[0, 4, 6, 8, 10]\n",
            "[4, 6, 8, 10]\n",
            "[4, 6]\n",
            "[4]\n",
            "[4, 6, 8, 10]\n"
          ]
        }
      ]
    },
    {
      "cell_type": "code",
      "source": [
        "# 리스트에서의 삽입(append, insert)\n",
        "\n",
        "a=[1,2,3]\n",
        "print(a)\n",
        "\n",
        "a.append(4)\n",
        "print(a)\n",
        "\n",
        "a.append('글자')\n",
        "print(a)\n",
        "\n",
        "a.insert(0,0)     # insert(위치, 값)\n",
        "print(a)\n",
        "\n"
      ],
      "metadata": {
        "colab": {
          "base_uri": "https://localhost:8080/"
        },
        "id": "5F2XKjbAAL15",
        "outputId": "77c8df68-aa1e-4536-be60-e9b2f1957921"
      },
      "execution_count": 30,
      "outputs": [
        {
          "output_type": "stream",
          "name": "stdout",
          "text": [
            "[1, 2, 3]\n",
            "[1, 2, 3, 4]\n",
            "[1, 2, 3, 4, '글자']\n",
            "[0, 1, 2, 3, 4, '글자']\n"
          ]
        }
      ]
    },
    {
      "cell_type": "code",
      "source": [
        "# 튜플 tuple\n",
        "# 1. 튜플는 ()를 사용하여 만든다.\n",
        "# 2. 튜플는 자료형을 혼합하여 저장할 수도 있다.(장점이면서 단점이다. 왜냐하면 오류날 확률이 높다.) 한가지 자료형에는 한가지 자료형만!! \n",
        "# 3. 튜플는 인덱싱과 슬라이싱이 가능하다.\n",
        "# 4. 튜플에서는 삽입/삭제/수정이 불가능하다.  immutable\n",
        "# 5. 튜플은 한개의 요소로 만들때는 괜히 ,를 넣는다.\n",
        "\n",
        "t1 = (1,2,3)\n",
        "type(t1)\n",
        "\n",
        "t2 =(1,2,'a','b')\n",
        "print(t2)"
      ],
      "metadata": {
        "colab": {
          "base_uri": "https://localhost:8080/"
        },
        "id": "y0T9HKXPCjpG",
        "outputId": "1e81f9ba-59bf-475a-d0cc-0b18e50d78ad"
      },
      "execution_count": 34,
      "outputs": [
        {
          "output_type": "stream",
          "name": "stdout",
          "text": [
            "(1, 2, 'a', 'b')\n"
          ]
        }
      ]
    },
    {
      "cell_type": "code",
      "source": [
        "# 튜플에서의 인덱싱\n",
        "t2 =(1,2,'a','b')\n",
        "t2[0]"
      ],
      "metadata": {
        "colab": {
          "base_uri": "https://localhost:8080/"
        },
        "id": "l2sMgwC1Dqs3",
        "outputId": "d71bba71-480e-4f3d-dff6-a79feedbc737"
      },
      "execution_count": 35,
      "outputs": [
        {
          "output_type": "execute_result",
          "data": {
            "text/plain": [
              "1"
            ]
          },
          "metadata": {},
          "execution_count": 35
        }
      ]
    },
    {
      "cell_type": "code",
      "source": [
        "# 튜플에서의 슬라이싱\n",
        "t2[:2] # 마지막은 미만 처리"
      ],
      "metadata": {
        "colab": {
          "base_uri": "https://localhost:8080/"
        },
        "id": "uKRmKc0SD2il",
        "outputId": "ac78cbf7-8cbe-40e0-eac0-9c26bfa72f14"
      },
      "execution_count": 36,
      "outputs": [
        {
          "output_type": "execute_result",
          "data": {
            "text/plain": [
              "(1, 2)"
            ]
          },
          "metadata": {},
          "execution_count": 36
        }
      ]
    },
    {
      "cell_type": "code",
      "source": [
        "# 4. 튜플에서는 삽입/삭제/수정이 불가능하다.  immutable\n",
        "\n",
        "t2 =(1,2,'a','b')\n",
        "\n",
        "t2.append('c')"
      ],
      "metadata": {
        "colab": {
          "base_uri": "https://localhost:8080/",
          "height": 211
        },
        "id": "kMNzhlixETCQ",
        "outputId": "62e64f16-d75a-47e1-912d-863b4f79f526"
      },
      "execution_count": 37,
      "outputs": [
        {
          "output_type": "error",
          "ename": "AttributeError",
          "evalue": "ignored",
          "traceback": [
            "\u001b[0;31m---------------------------------------------------------------------------\u001b[0m",
            "\u001b[0;31mAttributeError\u001b[0m                            Traceback (most recent call last)",
            "\u001b[0;32m<ipython-input-37-a49647f552f5>\u001b[0m in \u001b[0;36m<module>\u001b[0;34m()\u001b[0m\n\u001b[1;32m      3\u001b[0m \u001b[0mt2\u001b[0m \u001b[0;34m=\u001b[0m\u001b[0;34m(\u001b[0m\u001b[0;36m1\u001b[0m\u001b[0;34m,\u001b[0m\u001b[0;36m2\u001b[0m\u001b[0;34m,\u001b[0m\u001b[0;34m'a'\u001b[0m\u001b[0;34m,\u001b[0m\u001b[0;34m'b'\u001b[0m\u001b[0;34m)\u001b[0m\u001b[0;34m\u001b[0m\u001b[0;34m\u001b[0m\u001b[0m\n\u001b[1;32m      4\u001b[0m \u001b[0;34m\u001b[0m\u001b[0m\n\u001b[0;32m----> 5\u001b[0;31m \u001b[0mt2\u001b[0m\u001b[0;34m.\u001b[0m\u001b[0mappend\u001b[0m\u001b[0;34m(\u001b[0m\u001b[0;34m'c'\u001b[0m\u001b[0;34m)\u001b[0m\u001b[0;34m\u001b[0m\u001b[0;34m\u001b[0m\u001b[0m\n\u001b[0m",
            "\u001b[0;31mAttributeError\u001b[0m: 'tuple' object has no attribute 'append'"
          ]
        }
      ]
    },
    {
      "cell_type": "code",
      "source": [
        "t2[2] = 0"
      ],
      "metadata": {
        "colab": {
          "base_uri": "https://localhost:8080/",
          "height": 174
        },
        "id": "QakdC7PgEiSv",
        "outputId": "18d51aef-89dc-434d-fc66-12bc377a9ee1"
      },
      "execution_count": 39,
      "outputs": [
        {
          "output_type": "error",
          "ename": "TypeError",
          "evalue": "ignored",
          "traceback": [
            "\u001b[0;31m---------------------------------------------------------------------------\u001b[0m",
            "\u001b[0;31mTypeError\u001b[0m                                 Traceback (most recent call last)",
            "\u001b[0;32m<ipython-input-39-4210242aa345>\u001b[0m in \u001b[0;36m<module>\u001b[0;34m()\u001b[0m\n\u001b[0;32m----> 1\u001b[0;31m \u001b[0mt2\u001b[0m\u001b[0;34m[\u001b[0m\u001b[0;36m2\u001b[0m\u001b[0;34m]\u001b[0m \u001b[0;34m=\u001b[0m \u001b[0;36m0\u001b[0m\u001b[0;34m\u001b[0m\u001b[0;34m\u001b[0m\u001b[0m\n\u001b[0m",
            "\u001b[0;31mTypeError\u001b[0m: 'tuple' object does not support item assignment"
          ]
        }
      ]
    },
    {
      "cell_type": "code",
      "source": [
        "del t2[0]"
      ],
      "metadata": {
        "colab": {
          "base_uri": "https://localhost:8080/",
          "height": 174
        },
        "id": "R4GIwOZ3Er_J",
        "outputId": "99b9ee5c-c8b9-469f-999c-fc9113e2a30a"
      },
      "execution_count": 41,
      "outputs": [
        {
          "output_type": "error",
          "ename": "TypeError",
          "evalue": "ignored",
          "traceback": [
            "\u001b[0;31m---------------------------------------------------------------------------\u001b[0m",
            "\u001b[0;31mTypeError\u001b[0m                                 Traceback (most recent call last)",
            "\u001b[0;32m<ipython-input-41-44fdbce93b46>\u001b[0m in \u001b[0;36m<module>\u001b[0;34m()\u001b[0m\n\u001b[0;32m----> 1\u001b[0;31m \u001b[0;32mdel\u001b[0m \u001b[0mt2\u001b[0m\u001b[0;34m[\u001b[0m\u001b[0;36m0\u001b[0m\u001b[0;34m]\u001b[0m\u001b[0;34m\u001b[0m\u001b[0;34m\u001b[0m\u001b[0m\n\u001b[0m",
            "\u001b[0;31mTypeError\u001b[0m: 'tuple' object doesn't support item deletion"
          ]
        }
      ]
    },
    {
      "cell_type": "code",
      "source": [
        "len(t2)"
      ],
      "metadata": {
        "colab": {
          "base_uri": "https://localhost:8080/"
        },
        "id": "K_fDdfRtFAns",
        "outputId": "8663cbeb-b13a-42a6-f547-1a41494763f7"
      },
      "execution_count": 42,
      "outputs": [
        {
          "output_type": "execute_result",
          "data": {
            "text/plain": [
              "4"
            ]
          },
          "metadata": {},
          "execution_count": 42
        }
      ]
    },
    {
      "cell_type": "code",
      "source": [
        "# 5. 튜플은 한개의 요소로 만들때는 괜히 ,를 넣는다.\n",
        "\n",
        "li1 =[1]\n",
        "print(li1)\n",
        "print(len(li1))\n",
        "print(type(li1))\n",
        "\n",
        "t1 =(1)\n",
        "print(t1)\n",
        "#print(len(t1))\n",
        "print(type(t1))\n",
        "\n",
        "\n",
        "t1 =(1,)\n",
        "print(t1)\n",
        "#print(len(t1))\n",
        "print(type(t1))"
      ],
      "metadata": {
        "colab": {
          "base_uri": "https://localhost:8080/"
        },
        "id": "f_kZjPXoFIpi",
        "outputId": "8cf7550b-619f-4391-c01e-e164851a7772"
      },
      "execution_count": 49,
      "outputs": [
        {
          "output_type": "stream",
          "name": "stdout",
          "text": [
            "[1]\n",
            "1\n",
            "<class 'list'>\n",
            "1\n",
            "<class 'int'>\n",
            "(1,)\n",
            "<class 'tuple'>\n"
          ]
        }
      ]
    },
    {
      "cell_type": "code",
      "source": [
        "# Quiz1\n",
        "bts = ['정국','진','뷔','rm','지민','제이홉','슈가']\n",
        "\n",
        "bts.append('길동')\n",
        "\n",
        "bts.pop()\n",
        "\n",
        "nums = [1,2,3,4,5]\n",
        "\n",
        "a = max(nums)   # 최대값\n",
        "b = min(nums)   # 최소값\n",
        "print(a)\n",
        "\n",
        "print(f'리스트에서의 최대값은 {a}입니다.')\n",
        "print(f'리스트에서의 최소값은 {b}입니다.')\n",
        "\n",
        "# 평균 구하기, 함수를 2개 사용해서\n",
        "total = sum(nums)\n",
        "result = total/5\n",
        "print(f'평균은 {result}입니다')\n",
        "\n",
        "# 날짜를 제외한 가격만 출력하기\n",
        "price = ['20220602',100,300,200]\n",
        "\n",
        "print(price[1:])\n",
        "\n",
        "# 짝수만 출력하세요\n",
        "\n",
        "nums = [1,2,3,4,5,6,7,8,9,10]\n",
        "print(nums[1:11:2])\n",
        "print(nums[1::2])\n",
        "\n",
        "# 거꾸로 출력\n",
        "nums = [1,2,3,4,5,6,7,8,9,10]\n",
        "print(nums[::-1])\n",
        "\n",
        "#  s = \"삼성 엘지 sk\" 리스트로 분리하여 저장하시오 split\n",
        "s = \"삼성 엘지 sk\"\n",
        "ss = \"삼성/엘지/sk\"\n",
        "li = s.split()\n",
        "li1 = ss.split('/')\n",
        "print(li)\n",
        "print(li1)\n",
        "\n",
        "\n"
      ],
      "metadata": {
        "colab": {
          "base_uri": "https://localhost:8080/"
        },
        "id": "gMX7RWYMJUF9",
        "outputId": "3b8ea4b2-ef8f-4c13-fb25-11bfa1303ee4"
      },
      "execution_count": 78,
      "outputs": [
        {
          "output_type": "stream",
          "name": "stdout",
          "text": [
            "5\n",
            "리스트에서의 최대값은 5입니다.\n",
            "리스트에서의 최소값은 1입니다.\n",
            "평균은 3.0입니다\n",
            "[100, 300, 200]\n",
            "[2, 4, 6, 8, 10]\n",
            "[2, 4, 6, 8, 10]\n",
            "[10, 9, 8, 7, 6, 5, 4, 3, 2, 1]\n",
            "['삼성', '엘지', 'sk']\n",
            "['삼성', '엘지', 'sk']\n"
          ]
        }
      ]
    },
    {
      "cell_type": "code",
      "source": [
        "# 딕셔너리 (Dict) \n",
        "# 1. 딕셔너리는 {}를 사용하여 만든다.\n",
        "# 2. 딕셔너리는 자료형을 혼합하여 저장할 수도 있다.(장점이면서 단점이다. 왜냐하면 오류날 확률이 높다.) 한가지 자료형에는 한가지 자료형만!! \n",
        "# 3. 딕셔너리 인덱싱과 슬라이싱이 불가능하다. 순서가 없다.\n",
        "# 4. 딕셔너리에서는 삽입/삭제/수정이 가능하다. mutable\n",
        "# 5. 딕셔너리는 키값과 벨류값의 쌍으로 구성된다. (자바의 맵, js의 json )"
      ],
      "metadata": {
        "id": "Do43_-1IPmtU"
      },
      "execution_count": null,
      "outputs": []
    },
    {
      "cell_type": "code",
      "source": [
        "a = {1:'hello', 2:'hi'}\n",
        "print(type(a))\n",
        "print(a)"
      ],
      "metadata": {
        "colab": {
          "base_uri": "https://localhost:8080/"
        },
        "id": "73nsQPB4RHZZ",
        "outputId": "638e93be-3ff1-49c0-ff1d-c52ac561913e"
      },
      "execution_count": 80,
      "outputs": [
        {
          "output_type": "stream",
          "name": "stdout",
          "text": [
            "<class 'dict'>\n",
            "{1: 'hello', 2: 'hi'}\n"
          ]
        }
      ]
    },
    {
      "cell_type": "code",
      "source": [
        "# 출력 순서가 없다. 순서가 없기 때문에 인덱싱과 슬라이싱이 불가능하다. \n",
        "# 순서가 없기 때문에 입력순서와 출력순서가 다를 수 있다. \n",
        "\n",
        "b = {'name':'Alice', 'age':20, 'gender':'m'}  \n",
        "print(b)"
      ],
      "metadata": {
        "colab": {
          "base_uri": "https://localhost:8080/"
        },
        "id": "nBL8of7URept",
        "outputId": "760f027e-3576-4065-d282-4a2751a9cc50"
      },
      "execution_count": 81,
      "outputs": [
        {
          "output_type": "stream",
          "name": "stdout",
          "text": [
            "{'name': 'Alice', 'age': 20, 'gender': 'm'}\n"
          ]
        }
      ]
    },
    {
      "cell_type": "code",
      "source": [
        "# b[0]  # 인데싱과 슬라이싱 불가\n",
        "\n",
        "# 따라서 딕셔너리는 키값으로만 추출할 수 있다.\n",
        "\n",
        "b['name']  # 키값으로만 밸류값을 꺼낼 수 있다. "
      ],
      "metadata": {
        "colab": {
          "base_uri": "https://localhost:8080/",
          "height": 35
        },
        "id": "6ZhFQUFwSWiL",
        "outputId": "d8011054-fd62-424d-8cc7-18e0ea69bccf"
      },
      "execution_count": 84,
      "outputs": [
        {
          "output_type": "execute_result",
          "data": {
            "text/plain": [
              "'Alice'"
            ],
            "application/vnd.google.colaboratory.intrinsic+json": {
              "type": "string"
            }
          },
          "metadata": {},
          "execution_count": 84
        }
      ]
    },
    {
      "cell_type": "code",
      "source": [
        "# 4. 딕셔너리에서는 삽입/삭제/수정이 가능하다. mutable\n",
        "\n",
        "b = {'name':'Alice', 'age':20, 'gender':'m'} \n",
        "print(b)\n",
        "\n",
        "del b['age']    # 삭제\n",
        "print(b)\n",
        "\n",
        "b['age2'] = 31   # 삽입\n",
        "print(b)\n",
        "\n",
        "b['age2'] = 21  # 수정\n",
        "print(b)"
      ],
      "metadata": {
        "colab": {
          "base_uri": "https://localhost:8080/"
        },
        "id": "syPrl8W7S5tk",
        "outputId": "25cce7ff-5afa-49de-989d-dcbee8395036"
      },
      "execution_count": 88,
      "outputs": [
        {
          "output_type": "stream",
          "name": "stdout",
          "text": [
            "{'name': 'Alice', 'age': 20, 'gender': 'm'}\n",
            "{'name': 'Alice', 'gender': 'm'}\n",
            "{'name': 'Alice', 'gender': 'm', 'age2': 31}\n",
            "{'name': 'Alice', 'gender': 'm', 'age2': 21}\n"
          ]
        }
      ]
    },
    {
      "cell_type": "code",
      "source": [
        "# 딕셔너리 관련 많이 사용되는 함수\n",
        "\n",
        "# 1. keys() 키 출력 , values 갑 출력 \n",
        "\n",
        "b = {'name':'Alice', 'age':20, 'gender':'m'} \n",
        "\n",
        "b.keys()       # 키값들만 모두 추축\n",
        "b.values()     # 밸류값들만 모두 추축\n",
        "c = b.items()  # 키와 벨류를 쌍으로 전환 \n",
        "c"
      ],
      "metadata": {
        "colab": {
          "base_uri": "https://localhost:8080/"
        },
        "id": "eBWOWHaSmfgX",
        "outputId": "6bc5fb86-02d5-423a-ed67-dbad06b43429"
      },
      "execution_count": 93,
      "outputs": [
        {
          "output_type": "execute_result",
          "data": {
            "text/plain": [
              "dict_items([('name', 'Alice'), ('age', 20), ('gender', 'm')])"
            ]
          },
          "metadata": {},
          "execution_count": 93
        }
      ]
    },
    {
      "cell_type": "code",
      "source": [
        "# 셋 (set) \n",
        "# 1. 셋은 {}를 사용하여 만든다.\n",
        "# 2. 셋은 자료형을 혼합하여 저장할 수도 있다.(장점이면서 단점이다. 왜냐하면 오류날 확률이 높다.) 한가지 자료형에는 한가지 자료형만!! \n",
        "# 3. 셋은 인덱싱과 슬라이싱이 불가능하다. 순서가 없다. unordered\n",
        "# 4. 셋에서는 삽입/삭제/수정이 가능하다. mutable\n",
        "# 5. 셋은 중복값을 허용하지 않는다."
      ],
      "metadata": {
        "id": "LEAT6dsXnay8"
      },
      "execution_count": null,
      "outputs": []
    },
    {
      "cell_type": "code",
      "source": [
        "#1. 셋은 {}를 사용하여 만든다.\n",
        "\n",
        "s1 = {1,2,3}\n",
        "type(s1)\n",
        "\n",
        "s2 = set(\"hello\")\n",
        "print(s2)"
      ],
      "metadata": {
        "colab": {
          "base_uri": "https://localhost:8080/"
        },
        "id": "YfimpeLjn7x-",
        "outputId": "437485c5-8deb-4167-eac7-859cc7437457"
      },
      "execution_count": 96,
      "outputs": [
        {
          "output_type": "stream",
          "name": "stdout",
          "text": [
            "{'e', 'l', 'h', 'o'}\n"
          ]
        }
      ]
    },
    {
      "cell_type": "code",
      "source": [
        "# 5. 셋은 중복값을 허용하지 않는다.\n",
        "s2 = {1,1,1,2,2,3,'하나'}\n",
        "print(s2)"
      ],
      "metadata": {
        "colab": {
          "base_uri": "https://localhost:8080/"
        },
        "id": "vn7q9MwloJVX",
        "outputId": "4215b072-9ba4-4afc-9024-2ba39d14e080"
      },
      "execution_count": 98,
      "outputs": [
        {
          "output_type": "stream",
          "name": "stdout",
          "text": [
            "{1, 2, 3, '하나'}\n"
          ]
        }
      ]
    },
    {
      "cell_type": "code",
      "source": [
        "# 3. 셋은 인덱싱과 슬라이싱이 불가능하다. 순서가 없다. unordered\n",
        "s2 = {1,1,1,2,2,3,'하나'}\n",
        "s2[0]"
      ],
      "metadata": {
        "colab": {
          "base_uri": "https://localhost:8080/",
          "height": 211
        },
        "id": "GcUJL2tipHmQ",
        "outputId": "44f6524a-ed03-44ab-f7c1-f23026f503ec"
      },
      "execution_count": 99,
      "outputs": [
        {
          "output_type": "error",
          "ename": "TypeError",
          "evalue": "ignored",
          "traceback": [
            "\u001b[0;31m---------------------------------------------------------------------------\u001b[0m",
            "\u001b[0;31mTypeError\u001b[0m                                 Traceback (most recent call last)",
            "\u001b[0;32m<ipython-input-99-f6148de40b3d>\u001b[0m in \u001b[0;36m<module>\u001b[0;34m()\u001b[0m\n\u001b[1;32m      1\u001b[0m \u001b[0;31m# 3. 셋은 인덱싱과 슬라이싱이 불가능하다. 순서가 없다. unordered\u001b[0m\u001b[0;34m\u001b[0m\u001b[0;34m\u001b[0m\u001b[0;34m\u001b[0m\u001b[0m\n\u001b[1;32m      2\u001b[0m \u001b[0ms2\u001b[0m \u001b[0;34m=\u001b[0m \u001b[0;34m{\u001b[0m\u001b[0;36m1\u001b[0m\u001b[0;34m,\u001b[0m\u001b[0;36m1\u001b[0m\u001b[0;34m,\u001b[0m\u001b[0;36m1\u001b[0m\u001b[0;34m,\u001b[0m\u001b[0;36m2\u001b[0m\u001b[0;34m,\u001b[0m\u001b[0;36m2\u001b[0m\u001b[0;34m,\u001b[0m\u001b[0;36m3\u001b[0m\u001b[0;34m,\u001b[0m\u001b[0;34m'하나'\u001b[0m\u001b[0;34m}\u001b[0m\u001b[0;34m\u001b[0m\u001b[0;34m\u001b[0m\u001b[0m\n\u001b[0;32m----> 3\u001b[0;31m \u001b[0ms2\u001b[0m\u001b[0;34m[\u001b[0m\u001b[0;36m0\u001b[0m\u001b[0;34m]\u001b[0m\u001b[0;34m\u001b[0m\u001b[0;34m\u001b[0m\u001b[0m\n\u001b[0m",
            "\u001b[0;31mTypeError\u001b[0m: 'set' object is not subscriptable"
          ]
        }
      ]
    },
    {
      "cell_type": "code",
      "source": [
        "s2 = {1,1,1,2,2,3,'하나'}\n",
        "l2 = list(s2)              #list로 변환\n",
        "print(l2)"
      ],
      "metadata": {
        "colab": {
          "base_uri": "https://localhost:8080/"
        },
        "id": "MmB1VDHfpkCe",
        "outputId": "d4ac3a22-f441-4b29-eaa1-62954532bafc"
      },
      "execution_count": 100,
      "outputs": [
        {
          "output_type": "stream",
          "name": "stdout",
          "text": [
            "[1, 2, 3, '하나']\n"
          ]
        }
      ]
    },
    {
      "cell_type": "code",
      "source": [
        "# 4. 셋에서는 삽입/삭제/수정이 가능하다. mutable\n",
        "\n",
        "s2 = {1,1,1,2,2,3,'하나'}\n",
        "s2.add('둘')                        # add (추가)\n",
        "print(s2)"
      ],
      "metadata": {
        "colab": {
          "base_uri": "https://localhost:8080/"
        },
        "id": "RMl5oyz2p7EZ",
        "outputId": "2b37ed6f-3eff-4754-d617-21a807bdaa64"
      },
      "execution_count": 101,
      "outputs": [
        {
          "output_type": "stream",
          "name": "stdout",
          "text": [
            "{1, 2, 3, '하나', '둘'}\n"
          ]
        }
      ]
    },
    {
      "cell_type": "code",
      "source": [
        "s2.remove(2)    # 삭제할 데이터"
      ],
      "metadata": {
        "colab": {
          "base_uri": "https://localhost:8080/"
        },
        "id": "MPNYXryUqMHW",
        "outputId": "137c778e-0ac2-43d9-c57f-cdfbd7d0e278"
      },
      "execution_count": 102,
      "outputs": [
        {
          "output_type": "execute_result",
          "data": {
            "text/plain": [
              "{1, 3, '둘', '하나'}"
            ]
          },
          "metadata": {},
          "execution_count": 102
        }
      ]
    },
    {
      "cell_type": "code",
      "source": [
        "# quiz 1\n",
        "\n",
        "t = (1,2,3)\n",
        "t[0] = 'a'     # 튜플은 수정이 불가능하기 때문에 오류가 난다. "
      ],
      "metadata": {
        "colab": {
          "base_uri": "https://localhost:8080/",
          "height": 211
        },
        "id": "PcyufDfNqmgw",
        "outputId": "0570c9ef-c208-4502-b1a8-d9a45bc77f23"
      },
      "execution_count": 103,
      "outputs": [
        {
          "output_type": "error",
          "ename": "TypeError",
          "evalue": "ignored",
          "traceback": [
            "\u001b[0;31m---------------------------------------------------------------------------\u001b[0m",
            "\u001b[0;31mTypeError\u001b[0m                                 Traceback (most recent call last)",
            "\u001b[0;32m<ipython-input-103-30a352ce2cda>\u001b[0m in \u001b[0;36m<module>\u001b[0;34m()\u001b[0m\n\u001b[1;32m      2\u001b[0m \u001b[0;34m\u001b[0m\u001b[0m\n\u001b[1;32m      3\u001b[0m \u001b[0mt\u001b[0m \u001b[0;34m=\u001b[0m \u001b[0;34m(\u001b[0m\u001b[0;36m1\u001b[0m\u001b[0;34m,\u001b[0m\u001b[0;36m2\u001b[0m\u001b[0;34m,\u001b[0m\u001b[0;36m3\u001b[0m\u001b[0;34m)\u001b[0m\u001b[0;34m\u001b[0m\u001b[0;34m\u001b[0m\u001b[0m\n\u001b[0;32m----> 4\u001b[0;31m \u001b[0mt\u001b[0m\u001b[0;34m[\u001b[0m\u001b[0;36m0\u001b[0m\u001b[0;34m]\u001b[0m \u001b[0;34m=\u001b[0m \u001b[0;34m'a'\u001b[0m\u001b[0;34m\u001b[0m\u001b[0;34m\u001b[0m\u001b[0m\n\u001b[0m",
            "\u001b[0;31mTypeError\u001b[0m: 'tuple' object does not support item assignment"
          ]
        }
      ]
    },
    {
      "cell_type": "code",
      "source": [
        "# if\n",
        "\n",
        "# if 조건식 : \n",
        "#   참인경구\n",
        "# else :\n",
        "#   거짓인경우\n",
        "\n",
        "\n",
        "money = 2000\n",
        "if money >= 3000 :\n",
        "  print('택시타라')    # 참\n",
        "else :\n",
        "  print('걸어가라')    # 거짓\n",
        "\n",
        "  "
      ],
      "metadata": {
        "colab": {
          "base_uri": "https://localhost:8080/"
        },
        "id": "W2gK8ABerOzJ",
        "outputId": "42be871b-7f10-44a3-84c2-0b86f401a34e"
      },
      "execution_count": 104,
      "outputs": [
        {
          "output_type": "stream",
          "name": "stdout",
          "text": [
            "걸어가라\n"
          ]
        }
      ]
    },
    {
      "cell_type": "code",
      "source": [
        "money = 2000\n",
        "card = True\n",
        "\n",
        "if money >= 3000  or card :\n",
        "  print('택시타라')    # 참\n",
        "else :\n",
        "  print('걸어가라')    # 거짓\n",
        "\n",
        "  "
      ],
      "metadata": {
        "colab": {
          "base_uri": "https://localhost:8080/"
        },
        "id": "zLdhYiZuvKRS",
        "outputId": "c3c246a7-f3be-40c1-a435-1d02b4888a2a"
      },
      "execution_count": 106,
      "outputs": [
        {
          "output_type": "stream",
          "name": "stdout",
          "text": [
            "택시타라\n"
          ]
        }
      ]
    },
    {
      "cell_type": "code",
      "source": [
        "4 not in [1,2,3]  # in  있으면 true   "
      ],
      "metadata": {
        "colab": {
          "base_uri": "https://localhost:8080/"
        },
        "id": "ryfavwVnynXL",
        "outputId": "ee7b94c0-9c84-493a-e88b-3fc7599fe6c7"
      },
      "execution_count": 109,
      "outputs": [
        {
          "output_type": "execute_result",
          "data": {
            "text/plain": [
              "True"
            ]
          },
          "metadata": {},
          "execution_count": 109
        }
      ]
    },
    {
      "cell_type": "code",
      "source": [
        "pocket = ['paper','phone','money']\n",
        "\n",
        "if 'money' in pocket:\n",
        "  print('택시')\n",
        "else:\n",
        "  print('걸어')"
      ],
      "metadata": {
        "colab": {
          "base_uri": "https://localhost:8080/"
        },
        "id": "3eVsjUfuy2hV",
        "outputId": "09c19612-6ad1-40e2-881f-a4cbb4e6595b"
      },
      "execution_count": 111,
      "outputs": [
        {
          "output_type": "stream",
          "name": "stdout",
          "text": [
            "택시\n"
          ]
        }
      ]
    },
    {
      "cell_type": "code",
      "source": [
        "# if문 안에 if문을 쓰는 것은 좋지 않은 것이다. \n",
        "# 분기가 여려개일 경우 if문 안에 if문을 중처하여 사용할 수는 있지만,\n",
        "# 권장하지는 않는다. \n",
        "# 따라서 분기가 여러개일 경우 elif를 사용하자. \n",
        "\n",
        "pocket = ['paper','phone']\n",
        "card = True\n",
        "\n",
        "if 'money' in pocket:\n",
        "  print('택시')\n",
        "else:\n",
        "  if card:\n",
        "      print('택시')\n",
        "  else:\n",
        "    print('걸어')"
      ],
      "metadata": {
        "colab": {
          "base_uri": "https://localhost:8080/"
        },
        "id": "qC_A8t7qzK7U",
        "outputId": "c87827be-ac92-436e-bb5c-b8d28fea6e84"
      },
      "execution_count": 112,
      "outputs": [
        {
          "output_type": "stream",
          "name": "stdout",
          "text": [
            "택시\n"
          ]
        }
      ]
    },
    {
      "cell_type": "code",
      "source": [
        "# elif는 갯수의 제한없이 원하는 대로 넣을 수 있다.\n",
        "\n",
        "pocket = ['paper','phone']\n",
        "card = True\n",
        "\n",
        "if 'money' in pocket:\n",
        "  print('택시')\n",
        "elif card:\n",
        "  print('택시')\n",
        "else:\n",
        "  print('걸어')"
      ],
      "metadata": {
        "colab": {
          "base_uri": "https://localhost:8080/"
        },
        "id": "skzNfn9B0AJg",
        "outputId": "f3a88056-97c8-41d6-c7c0-61f554afb912"
      },
      "execution_count": 113,
      "outputs": [
        {
          "output_type": "stream",
          "name": "stdout",
          "text": [
            "택시\n"
          ]
        }
      ]
    },
    {
      "cell_type": "code",
      "source": [
        "pocket = ['paper','phone']\n",
        "card = True\n",
        "\n",
        "if 'money' in pocket: print('택시')\n",
        "elif card: print('택시')\n",
        "else: print('걸어')"
      ],
      "metadata": {
        "colab": {
          "base_uri": "https://localhost:8080/"
        },
        "id": "WKTyEuKR0mlQ",
        "outputId": "91fc76ed-d21e-4b1e-b2ee-8a6d9cd6b4d4"
      },
      "execution_count": 114,
      "outputs": [
        {
          "output_type": "stream",
          "name": "stdout",
          "text": [
            "택시\n"
          ]
        }
      ]
    },
    {
      "cell_type": "code",
      "source": [
        "score =90\n",
        "\n",
        "if score >=60: print('합격')\n",
        "else: print('불합격')\n",
        "\n",
        "# 한줄로 표현하면 : 조건부 표현식\n",
        "# 참인 경우 if 조건식 else 거짓인 경우\n",
        "print('합격') if score>=60  else print(\"불합격\")"
      ],
      "metadata": {
        "colab": {
          "base_uri": "https://localhost:8080/"
        },
        "id": "Kgxwbcey06xo",
        "outputId": "ff19b9cd-3cc4-49b6-dd5f-e2992e9f1c7d"
      },
      "execution_count": 119,
      "outputs": [
        {
          "output_type": "stream",
          "name": "stdout",
          "text": [
            "합격\n",
            "합격\n"
          ]
        }
      ]
    },
    {
      "cell_type": "code",
      "source": [
        "# 퀴즈\n",
        "\n",
        "if True:\n",
        "  print('1')\n",
        "  print('2')\n",
        "else:\n",
        "  print('3')\n",
        "print('4')"
      ],
      "metadata": {
        "colab": {
          "base_uri": "https://localhost:8080/"
        },
        "id": "onTlC2V52ne4",
        "outputId": "058f19e4-3ff4-4f79-df2b-0597762f8d47"
      },
      "execution_count": 120,
      "outputs": [
        {
          "output_type": "stream",
          "name": "stdout",
          "text": [
            "1\n",
            "2\n",
            "4\n"
          ]
        }
      ]
    },
    {
      "cell_type": "code",
      "source": [
        "# 퀴즈\n",
        "if True:\n",
        "  if False:\n",
        "    print('1')\n",
        "    print('2')\n",
        "  else:\n",
        "    print('3')\n",
        "else:\n",
        "  print('4')\n",
        "print('5')"
      ],
      "metadata": {
        "colab": {
          "base_uri": "https://localhost:8080/"
        },
        "id": "ZjLQLcDP3Gz0",
        "outputId": "d14edfea-9cac-40bd-ae71-fcb841b4a8d9"
      },
      "execution_count": 121,
      "outputs": [
        {
          "output_type": "stream",
          "name": "stdout",
          "text": [
            "3\n",
            "5\n"
          ]
        }
      ]
    },
    {
      "cell_type": "code",
      "source": [
        "# 퀴즈 \n",
        "# 숫자를 입력받고 짝수/홀수를 판별\n",
        "# % 나머지 연산자로 홀수/짝수/배수를 알아낼 수 있다.\n",
        "\n",
        "a = int(input('숫자 입력'))\n",
        "if a % 2 == 0 :\n",
        "  print('짝수')\n",
        "else:\n",
        "  print('홀수')"
      ],
      "metadata": {
        "colab": {
          "base_uri": "https://localhost:8080/"
        },
        "id": "LCagcFE53qDa",
        "outputId": "eb6fd0eb-ec5b-4972-c90c-637262d78826"
      },
      "execution_count": 133,
      "outputs": [
        {
          "output_type": "stream",
          "name": "stdout",
          "text": [
            "숫자 입력1\n",
            "홀수\n"
          ]
        }
      ]
    },
    {
      "cell_type": "code",
      "source": [
        "a = int(input('숫자입력'))\n",
        "num=a+20\n",
        "\n",
        "if num > 255:\n",
        "  print(255)\n",
        "else:\n",
        "  print(num)\n",
        "\n",
        "# if a == 200:\n",
        "#   print(a+20)\n",
        "# else :\n",
        "#   print(255)\n",
        "\n"
      ],
      "metadata": {
        "colab": {
          "base_uri": "https://localhost:8080/"
        },
        "id": "dUCT5KL75KHw",
        "outputId": "b67cb0db-c72f-4363-e493-140f61a6b76a"
      },
      "execution_count": 140,
      "outputs": [
        {
          "output_type": "stream",
          "name": "stdout",
          "text": [
            "숫자입력300\n",
            "255\n"
          ]
        }
      ]
    },
    {
      "cell_type": "code",
      "source": [
        "a = int(input('숫자입력'))\n",
        "num=a-20\n",
        "\n",
        "if num < 0:\n",
        "  print(0)\n",
        "elif num > 0:\n",
        "  print(num)\n",
        "else:\n",
        "  print(255)"
      ],
      "metadata": {
        "colab": {
          "base_uri": "https://localhost:8080/"
        },
        "id": "rMUqm6mW6zoG",
        "outputId": "c8717554-0747-45c4-e469-b2af63609dd9"
      },
      "execution_count": 147,
      "outputs": [
        {
          "output_type": "stream",
          "name": "stdout",
          "text": [
            "숫자입력15\n",
            "0\n"
          ]
        }
      ]
    },
    {
      "cell_type": "code",
      "source": [
        "# 입력받은 시간이 정각인지 판별\n",
        "a = input(\"시간을 입력\")\n",
        "b = a[-2:]\n",
        "print(b)\n",
        "\n",
        "if  b == '00' :\n",
        "  print(\"정각\")\n",
        "else :\n",
        " print(\"정각이 아님\")"
      ],
      "metadata": {
        "colab": {
          "base_uri": "https://localhost:8080/"
        },
        "id": "3CJAxRC-714s",
        "outputId": "7b3f051b-6590-4e0e-e2ab-c7e6b726f396"
      },
      "execution_count": 165,
      "outputs": [
        {
          "output_type": "stream",
          "name": "stdout",
          "text": [
            "시간을 입력02:10\n",
            "10\n",
            "정각이 아님\n"
          ]
        }
      ]
    },
    {
      "cell_type": "code",
      "source": [
        "a = int(input(\"숫자입력\"))\n",
        "b = int(input(\"숫자입력\"))\n",
        "\n",
        "if a>b:\n",
        "  print(b,a)\n",
        "elif a<b:\n",
        "  print(a,b)\n",
        "else:\n",
        "  print('다시 입력')"
      ],
      "metadata": {
        "colab": {
          "base_uri": "https://localhost:8080/"
        },
        "id": "2c3LNUhxAmHu",
        "outputId": "680c7beb-caaa-4ae6-ae6f-a0d6b2ec15e9"
      },
      "execution_count": 171,
      "outputs": [
        {
          "output_type": "stream",
          "name": "stdout",
          "text": [
            "숫자입력8\n",
            "숫자입력1\n",
            "1 8\n"
          ]
        }
      ]
    },
    {
      "cell_type": "code",
      "source": [
        "a = int(input(\"숫자입력\"))\n",
        "if a >= 20 : print(\"너무 높아\")\n",
        "else : print(\"감사\")"
      ],
      "metadata": {
        "colab": {
          "base_uri": "https://localhost:8080/"
        },
        "id": "Bgt-g43QB5Ci",
        "outputId": "4c60e55c-8578-444e-fb81-84b1ad15c519"
      },
      "execution_count": 174,
      "outputs": [
        {
          "output_type": "stream",
          "name": "stdout",
          "text": [
            "숫자입력444444\n",
            "너무 높아\n"
          ]
        }
      ]
    },
    {
      "cell_type": "code",
      "source": [
        "a = input(\"좋아하는 색은?\")\n",
        "\n",
        "# if a == 'red':\n",
        "#   print('빨간색 나도 좋아 ')\n",
        "# else :\n",
        "#   print('그색 싫어')\n",
        "\n",
        "\n",
        "red = ['red','RED','Red']\n",
        "\n",
        "if a in red:\n",
        "  print('I like red too')\n",
        "else:\n",
        "  print(f\"I don't like {a}, I prefer red\")"
      ],
      "metadata": {
        "colab": {
          "base_uri": "https://localhost:8080/"
        },
        "id": "92KP6PCBCUzH",
        "outputId": "204f827f-49c8-4ced-9cbb-579d40a336b0"
      },
      "execution_count": 180,
      "outputs": [
        {
          "output_type": "stream",
          "name": "stdout",
          "text": [
            "좋아하는 색은?red\n",
            "I like red too\n"
          ]
        }
      ]
    },
    {
      "cell_type": "code",
      "source": [
        "age = int(input('나이를 입력하세용'))\n",
        "\n",
        "if age >=18:\n",
        "  print(\"투표할 수 있다.\")\n",
        "elif age == 17 :\n",
        "  print(\"운전을 배워라\")\n",
        "elif age == 16 :\n",
        "  print(\"복권을 살수있다\")\n",
        "else :\n",
        "  print(\"사탕이나 사라  ㅎㅎㅎ\")"
      ],
      "metadata": {
        "colab": {
          "base_uri": "https://localhost:8080/"
        },
        "id": "Yfo1Lm9ZETGK",
        "outputId": "72462246-f7b5-45e3-f7d7-3fc2a1388146"
      },
      "execution_count": 186,
      "outputs": [
        {
          "output_type": "stream",
          "name": "stdout",
          "text": [
            "나이를 입력하세용17\n",
            "운전을 배워라\n"
          ]
        }
      ]
    },
    {
      "cell_type": "code",
      "source": [
        "a = int(input('1,2 또는 3 을 눌러라'))\n",
        "if a == 1 :\n",
        "  print(\"고맙군\")\n",
        "elif a == 2:\n",
        "  print(\"잘했군\")\n",
        "elif a == 3:\n",
        "  print(\"맞네\")\n",
        "else:\n",
        "  print(\"잘눌러라\")"
      ],
      "metadata": {
        "id": "xY4tB5aAGJ85"
      },
      "execution_count": null,
      "outputs": []
    },
    {
      "cell_type": "code",
      "source": [
        "a = input(\"첫번째 성은?\")\n",
        "\n",
        "if a :\n",
        "  print(len(a))"
      ],
      "metadata": {
        "colab": {
          "base_uri": "https://localhost:8080/"
        },
        "id": "oXTHW2siHQy-",
        "outputId": "b85987b3-6e23-4fed-f09b-5bfc0fd729a2"
      },
      "execution_count": 189,
      "outputs": [
        {
          "output_type": "stream",
          "name": "stdout",
          "text": [
            "첫번째 성은?young\n",
            "5\n"
          ]
        }
      ]
    },
    {
      "cell_type": "code",
      "source": [
        "a = input(\"단어입력?\")\n",
        "b = a.upper()  # 대문자로 바꾸기 .lower() 소문자로 바꾸기\n",
        "print(b)"
      ],
      "metadata": {
        "colab": {
          "base_uri": "https://localhost:8080/"
        },
        "id": "rlUVJpNvHrMR",
        "outputId": "d510b547-155a-40f4-9aea-08fb1a21c798"
      },
      "execution_count": 191,
      "outputs": [
        {
          "output_type": "stream",
          "name": "stdout",
          "text": [
            "단어입력?apple\n",
            "APPLE\n"
          ]
        }
      ]
    },
    {
      "cell_type": "code",
      "source": [
        "# Pig Latin takes the first consonant of a word.\n",
        "# moves it to the end of the word and adds on an \"ay\".\n",
        "# If a word begins with a vowel you just add \"way\" to the end.\n",
        "\n",
        "# for example, \n",
        "# pig becomes igpay, banana becomes ananabay, \n",
        "# and aadvark becomes aadvarkway.\n",
        "# Create a program that will ask the user to enter a word \n",
        "# and change it into Pig Latin.\n",
        "# Make sure the new word is displayed in lowercase.\n",
        "\n"
      ],
      "metadata": {
        "id": "CrbYJEJ3IeZ0"
      },
      "execution_count": null,
      "outputs": []
    }
  ]
}