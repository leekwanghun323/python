{
  "nbformat": 4,
  "nbformat_minor": 0,
  "metadata": {
    "colab": {
      "name": "pythonbasic03.ipynb",
      "provenance": [],
      "authorship_tag": "ABX9TyP1pmKxSgP8y/SqsltWYyes",
      "include_colab_link": true
    },
    "kernelspec": {
      "name": "python3",
      "display_name": "Python 3"
    },
    "language_info": {
      "name": "python"
    }
  },
  "cells": [
    {
      "cell_type": "markdown",
      "metadata": {
        "id": "view-in-github",
        "colab_type": "text"
      },
      "source": [
        "<a href=\"https://colab.research.google.com/github/leekwanghun323/python/blob/main/pythonbasic03.ipynb\" target=\"_parent\"><img src=\"https://colab.research.google.com/assets/colab-badge.svg\" alt=\"Open In Colab\"/></a>"
      ]
    },
    {
      "cell_type": "code",
      "source": [
        ""
      ],
      "metadata": {
        "id": "1RfgsKamAssq"
      },
      "execution_count": null,
      "outputs": []
    },
    {
      "cell_type": "code",
      "execution_count": 6,
      "metadata": {
        "colab": {
          "base_uri": "https://localhost:8080/"
        },
        "id": "W8eUCK4D1yg5",
        "outputId": "def0b0e3-1d89-4d84-dd62-db27baae155e"
      },
      "outputs": [
        {
          "output_type": "stream",
          "name": "stdout",
          "text": [
            "0 i love u\n",
            "1 i love u\n",
            "2 i love u\n",
            "3 i love u\n",
            "4 i love u\n",
            "5 i love u\n",
            "6 i love u\n",
            "7 i love u\n",
            "8 i love u\n",
            "9 i love u\n"
          ]
        }
      ],
      "source": [
        "# 반복문 while for \n",
        "\n",
        "# while   : 무한반복된다. 그래서 탈출지점을 만들어주어야 한다.\n",
        "\n",
        "# while 조건식 :\n",
        "#   수행문\n",
        "\n",
        "# while True:     # 무한반복\n",
        "#   print('hello')\n",
        "\n",
        "num = 0\n",
        "while num <10:\n",
        "  print(num, 'i love u')\n",
        "  num += 1                  # num = num + 1        //num ++(자바에서 1개 증가)"
      ]
    },
    {
      "cell_type": "code",
      "source": [
        "coffee = 10\n",
        "\n",
        "while True:\n",
        "  print(\"커피 먹어\")\n",
        "  coffee = coffee - 1\n",
        "  print(f\"남은 커피는 {coffee}입니다.\")\n",
        "  if coffee == 0 :\n",
        "    print(\"커피없다.\")\n",
        "    break    #  break를 만나는 순간 반복문을 빠져나간다."
      ],
      "metadata": {
        "colab": {
          "base_uri": "https://localhost:8080/"
        },
        "id": "5zbkKjdBBt6m",
        "outputId": "abce59ee-70e3-4de2-a5ff-06d4606ae5b9"
      },
      "execution_count": 7,
      "outputs": [
        {
          "output_type": "stream",
          "name": "stdout",
          "text": [
            "커피 먹어\n",
            "남은 커피는 9입니다.\n",
            "커피 먹어\n",
            "남은 커피는 8입니다.\n",
            "커피 먹어\n",
            "남은 커피는 7입니다.\n",
            "커피 먹어\n",
            "남은 커피는 6입니다.\n",
            "커피 먹어\n",
            "남은 커피는 5입니다.\n",
            "커피 먹어\n",
            "남은 커피는 4입니다.\n",
            "커피 먹어\n",
            "남은 커피는 3입니다.\n",
            "커피 먹어\n",
            "남은 커피는 2입니다.\n",
            "커피 먹어\n",
            "남은 커피는 1입니다.\n",
            "커피 먹어\n",
            "남은 커피는 0입니다.\n",
            "커피없다.\n"
          ]
        }
      ]
    },
    {
      "cell_type": "code",
      "source": [
        "# 1부터 10까지 숫자 중 홀수만 출력\n",
        "\n",
        "num = 0\n",
        "\n",
        "while num < 10:\n",
        "   num += 1\n",
        "   if num % 2 == 0 : continue    # contunue를 만나면 바로 반복문으로 다시 들어간다.  break를 만나면 반복문을 빠져 나간다.\n",
        "   print(num)\n",
        "   \n",
        "    "
      ],
      "metadata": {
        "colab": {
          "base_uri": "https://localhost:8080/"
        },
        "id": "9NIcWxh1FMJh",
        "outputId": "9d9414a6-23fb-40c4-a08e-01e999dd479e"
      },
      "execution_count": 11,
      "outputs": [
        {
          "output_type": "stream",
          "name": "stdout",
          "text": [
            "1\n",
            "3\n",
            "5\n",
            "7\n",
            "9\n"
          ]
        }
      ]
    },
    {
      "cell_type": "code",
      "source": [
        "# for 문 주로 반복 회수가 정확할 때 사용한다. \n",
        "\n",
        "li = ['1','2','3']\n",
        "\n",
        "for i in li:\n",
        "  print(i)"
      ],
      "metadata": {
        "colab": {
          "base_uri": "https://localhost:8080/"
        },
        "id": "-K5b0TdAH4UB",
        "outputId": "e17eef3b-5b52-4bce-f3d6-841c3338f21a"
      },
      "execution_count": 12,
      "outputs": [
        {
          "output_type": "stream",
          "name": "stdout",
          "text": [
            "1\n",
            "2\n",
            "3\n"
          ]
        }
      ]
    },
    {
      "cell_type": "code",
      "source": [
        "a = [(1,2),(3,4),(5,6)]\n",
        "\n",
        "for item1, item2 in a:\n",
        "  print(item1 + item2)"
      ],
      "metadata": {
        "colab": {
          "base_uri": "https://localhost:8080/"
        },
        "id": "JH1VuojdIcwu",
        "outputId": "ffd68bbe-c5bf-43cf-8076-5b369446978b"
      },
      "execution_count": 14,
      "outputs": [
        {
          "output_type": "stream",
          "name": "stdout",
          "text": [
            "3\n",
            "7\n",
            "11\n"
          ]
        }
      ]
    },
    {
      "cell_type": "code",
      "source": [
        "eng = [90,60,90,70,80]\n",
        "id = 0\n",
        "\n",
        "for score in eng:\n",
        "  id += 1\n",
        "  if score >=80:\n",
        "    print(f'{id}번 합격')\n",
        "  else:\n",
        "    print(f'{id}번불합격')"
      ],
      "metadata": {
        "colab": {
          "base_uri": "https://localhost:8080/"
        },
        "id": "EZKgz_dDI9KH",
        "outputId": "3d36c579-5793-4689-82ad-792fd8a160a9"
      },
      "execution_count": 17,
      "outputs": [
        {
          "output_type": "stream",
          "name": "stdout",
          "text": [
            "1번 합격\n",
            "2번불합격\n",
            "3번 합격\n",
            "4번불합격\n",
            "5번 합격\n"
          ]
        }
      ]
    },
    {
      "cell_type": "code",
      "source": [
        "eng = [90,60,90,70,80]\n",
        "id = 0\n",
        "\n",
        "for score in eng:\n",
        "  id += 1\n",
        "  if score < 80: continue\n",
        "  print(f\"{id}번 합격\")\n",
        " "
      ],
      "metadata": {
        "colab": {
          "base_uri": "https://localhost:8080/"
        },
        "id": "9PyAojo3JyeK",
        "outputId": "96fc5e8b-7d6e-4fd7-a5de-0357aac95aa9"
      },
      "execution_count": 24,
      "outputs": [
        {
          "output_type": "stream",
          "name": "stdout",
          "text": [
            "1번 합격\n",
            "3번 합격\n",
            "5번 합격\n"
          ]
        }
      ]
    },
    {
      "cell_type": "code",
      "source": [
        "# for 문과 함께 많이 사용되는 range\n",
        "\n",
        "print(range(10))               # 0 부터 10 미만까지(시작, 끝(미만)) "
      ],
      "metadata": {
        "colab": {
          "base_uri": "https://localhost:8080/"
        },
        "id": "-tIiYc_SLPRA",
        "outputId": "6fcf5a3f-8bad-49ec-cb13-34681e321184"
      },
      "execution_count": 25,
      "outputs": [
        {
          "output_type": "stream",
          "name": "stdout",
          "text": [
            "range(0, 10)\n"
          ]
        }
      ]
    },
    {
      "cell_type": "code",
      "source": [
        "for i in range(10):      # 시작이 0일경우 생략\n",
        "  print(i)"
      ],
      "metadata": {
        "colab": {
          "base_uri": "https://localhost:8080/"
        },
        "id": "pkHnZww8Ltba",
        "outputId": "cf1268de-bc6b-4af6-be38-918186902256"
      },
      "execution_count": 27,
      "outputs": [
        {
          "output_type": "stream",
          "name": "stdout",
          "text": [
            "0\n",
            "1\n",
            "2\n",
            "3\n",
            "4\n",
            "5\n",
            "6\n",
            "7\n",
            "8\n",
            "9\n"
          ]
        }
      ]
    },
    {
      "cell_type": "code",
      "source": [
        "#0부터 10까지의 합\n",
        "\n",
        "sum = 0\n",
        "for i in range(11):\n",
        "  sum += i\n",
        "print(sum)"
      ],
      "metadata": {
        "colab": {
          "base_uri": "https://localhost:8080/"
        },
        "id": "Tmjw1a9FL_0w",
        "outputId": "0df878d3-acaa-486b-95a7-4c8968a6f1a7"
      },
      "execution_count": 35,
      "outputs": [
        {
          "output_type": "stream",
          "name": "stdout",
          "text": [
            "55\n"
          ]
        }
      ]
    },
    {
      "cell_type": "code",
      "source": [
        "# 구구단 출력\n",
        "\n",
        "for i in range(2,10):\n",
        "  for j in range(1,10):\n",
        "    print(f'{i} * {j} = {i*j}', end = \"\\t \")                 # end = \" \" : 줄바꿈이 안되게 하는거  \\t는 보기좋게\n",
        "  print()                                                    # 단이 끝날때 마다 줄바꾸기"
      ],
      "metadata": {
        "colab": {
          "base_uri": "https://localhost:8080/"
        },
        "id": "-yLnyTcyMzGf",
        "outputId": "f1568b51-0167-44be-873f-8f22633c5b5a"
      },
      "execution_count": 41,
      "outputs": [
        {
          "output_type": "stream",
          "name": "stdout",
          "text": [
            "2 * 1 = 2\t 2 * 2 = 4\t 2 * 3 = 6\t 2 * 4 = 8\t 2 * 5 = 10\t 2 * 6 = 12\t 2 * 7 = 14\t 2 * 8 = 16\t 2 * 9 = 18\t \n",
            "3 * 1 = 3\t 3 * 2 = 6\t 3 * 3 = 9\t 3 * 4 = 12\t 3 * 5 = 15\t 3 * 6 = 18\t 3 * 7 = 21\t 3 * 8 = 24\t 3 * 9 = 27\t \n",
            "4 * 1 = 4\t 4 * 2 = 8\t 4 * 3 = 12\t 4 * 4 = 16\t 4 * 5 = 20\t 4 * 6 = 24\t 4 * 7 = 28\t 4 * 8 = 32\t 4 * 9 = 36\t \n",
            "5 * 1 = 5\t 5 * 2 = 10\t 5 * 3 = 15\t 5 * 4 = 20\t 5 * 5 = 25\t 5 * 6 = 30\t 5 * 7 = 35\t 5 * 8 = 40\t 5 * 9 = 45\t \n",
            "6 * 1 = 6\t 6 * 2 = 12\t 6 * 3 = 18\t 6 * 4 = 24\t 6 * 5 = 30\t 6 * 6 = 36\t 6 * 7 = 42\t 6 * 8 = 48\t 6 * 9 = 54\t \n",
            "7 * 1 = 7\t 7 * 2 = 14\t 7 * 3 = 21\t 7 * 4 = 28\t 7 * 5 = 35\t 7 * 6 = 42\t 7 * 7 = 49\t 7 * 8 = 56\t 7 * 9 = 63\t \n",
            "8 * 1 = 8\t 8 * 2 = 16\t 8 * 3 = 24\t 8 * 4 = 32\t 8 * 5 = 40\t 8 * 6 = 48\t 8 * 7 = 56\t 8 * 8 = 64\t 8 * 9 = 72\t \n",
            "9 * 1 = 9\t 9 * 2 = 18\t 9 * 3 = 27\t 9 * 4 = 36\t 9 * 5 = 45\t 9 * 6 = 54\t 9 * 7 = 63\t 9 * 8 = 72\t 9 * 9 = 81\t \n"
          ]
        }
      ]
    },
    {
      "cell_type": "code",
      "source": [
        "# 퀴즈 \n",
        "# while문을 이용하여 1부터 1000까지의 자연수 중에서 3의 배수들의 합을 구하시오\n",
        "num = 0\n",
        "sum = 0\n",
        "\n",
        "while num < 1000:\n",
        "   if num % 3 == 0 :\n",
        "     sum = sum + num\n",
        "   num += 1\n",
        "     \n",
        "print(sum)"
      ],
      "metadata": {
        "colab": {
          "base_uri": "https://localhost:8080/"
        },
        "id": "9TXUhNRCSyAJ",
        "outputId": "3046caca-cff4-4433-e441-51deee1af2f4"
      },
      "execution_count": 48,
      "outputs": [
        {
          "output_type": "stream",
          "name": "stdout",
          "text": [
            "166833\n"
          ]
        }
      ]
    },
    {
      "cell_type": "code",
      "source": [
        "# 퀴즈\n",
        "# while문을 사용하여 * 삼각형을 만드세요\n",
        "# *\n",
        "# **\n",
        "# ***\n",
        "# ****\n",
        "# *****\n",
        "i=0\n",
        "while True:\n",
        "  i += 1\n",
        "  if i > 5 :break\n",
        "  print('*' * i)"
      ],
      "metadata": {
        "colab": {
          "base_uri": "https://localhost:8080/"
        },
        "id": "6wZZxEx_UVya",
        "outputId": "09dceeea-18e6-4c20-b8ae-603f2b5fd538"
      },
      "execution_count": 53,
      "outputs": [
        {
          "output_type": "stream",
          "name": "stdout",
          "text": [
            "*\n",
            "**\n",
            "***\n",
            "****\n",
            "*****\n"
          ]
        }
      ]
    },
    {
      "cell_type": "code",
      "source": [
        "# 리스트 내포 (list comprehension)\n",
        "\n",
        "a = [1,2,3,4]\n",
        "\n",
        "result = []\n",
        "for num in a :\n",
        "  result.append(num*3)\n",
        "\n",
        "print(result)\n",
        "\n",
        "result2 = [num *3 for num in a]\n",
        "print(result2)\n",
        "\n",
        "\n",
        "# 조건식 까지 추가 가능\n",
        "result3 = [num*3 for num in a if num % 2 == 0]\n",
        "# 처리 순서  3         1            2\n",
        "print(result3)"
      ],
      "metadata": {
        "colab": {
          "base_uri": "https://localhost:8080/"
        },
        "id": "3Hwcfft4VqF1",
        "outputId": "1dbb8167-a9ab-4323-f469-784b607792d7"
      },
      "execution_count": 58,
      "outputs": [
        {
          "output_type": "stream",
          "name": "stdout",
          "text": [
            "[3, 6, 9, 12]\n",
            "[3, 6, 9, 12]\n",
            "[6, 12]\n"
          ]
        }
      ]
    },
    {
      "cell_type": "code",
      "source": [
        "# 리스트 중에서 홀수만 2를 곱하여 리스트를 생성하세요\n",
        "\n",
        "num = [1,2,3,4,5]\n",
        "result = [num*2 for num in a if num % 2 == 1]\n",
        "print(result)"
      ],
      "metadata": {
        "colab": {
          "base_uri": "https://localhost:8080/"
        },
        "id": "JQFhToj1Xo36",
        "outputId": "8570de83-33c2-4c7f-e514-1987acca60f0"
      },
      "execution_count": 62,
      "outputs": [
        {
          "output_type": "stream",
          "name": "stdout",
          "text": [
            "[2, 6]\n"
          ]
        }
      ]
    },
    {
      "cell_type": "code",
      "source": [
        "# while문을 사용하여 * 역삼각형을 만드세요\n",
        "# *******\n",
        "# ******\n",
        "# *****\n",
        "# ****\n",
        "# ***\n",
        "# **\n",
        "# *\n",
        "\n",
        "\n",
        "i=5\n",
        "\n",
        "while i>0:\n",
        "  print('*' * i)\n",
        "  i=i-1"
      ],
      "metadata": {
        "colab": {
          "base_uri": "https://localhost:8080/"
        },
        "id": "HefP5bfRWMbr",
        "outputId": "add5ea50-f169-4b57-b49c-d91f9b47a2c7"
      },
      "execution_count": 65,
      "outputs": [
        {
          "output_type": "stream",
          "name": "stdout",
          "text": [
            "*****\n",
            "****\n",
            "***\n",
            "**\n",
            "*\n"
          ]
        }
      ]
    },
    {
      "cell_type": "code",
      "source": [
        "# for 문을 사용하여 * 역삼각형을 만드세요\n",
        "# *******\n",
        "# ******\n",
        "# *****\n",
        "# ****\n",
        "# ***\n",
        "# **\n",
        "# *\n",
        "\n",
        "a=5\n",
        "for i in range(0,5):\n",
        "  print('*'*(5-i))\n",
        "  i += 1 \n"
      ],
      "metadata": {
        "colab": {
          "base_uri": "https://localhost:8080/"
        },
        "id": "cMbl-WgQZNdV",
        "outputId": "2824cdb7-a38c-4eed-d2d0-92383f504ae3"
      },
      "execution_count": 67,
      "outputs": [
        {
          "output_type": "stream",
          "name": "stdout",
          "text": [
            "*****\n",
            "****\n",
            "***\n",
            "**\n",
            "*\n"
          ]
        }
      ]
    },
    {
      "cell_type": "code",
      "source": [
        "# 줄의 갯수를 입력 받아서  *정삼각형을 만드세요\n",
        "a = int(input(\"갯수 입력하세요\"))\n",
        "\n",
        "\n",
        "# 삼각형\n",
        "# for i in range(0,a):\n",
        "#   print('*' * (a-1))\n",
        "#   a += 1\n",
        "\n",
        "# 정삼각형\n",
        "\n",
        "for i in range(1,a+1):\n",
        "  print(\"\" * (a-i),\"*\"*(2*i-1))"
      ],
      "metadata": {
        "colab": {
          "base_uri": "https://localhost:8080/"
        },
        "id": "q4UMoXzAaIBm",
        "outputId": "44760194-c424-4a1a-a3db-048b1d3928d1"
      },
      "execution_count": 147,
      "outputs": [
        {
          "output_type": "stream",
          "name": "stdout",
          "text": [
            "갯수 입력하세요4\n",
            " *\n",
            " ***\n",
            " *****\n",
            " *******\n"
          ]
        }
      ]
    },
    {
      "cell_type": "code",
      "source": [
        "# 함수 (클래스 밖에서는 함수, 클래스 안에서는 메소드)\n",
        "\n",
        "# def 함수이름(매개변수) :\n",
        "#   수행 문장\n",
        "#   수행 문장\n",
        "\n",
        "# 1. 입력이 있고 리턴이 있는 함수\n",
        "def add(a,b):\n",
        "  return a + b\n",
        "\n",
        "print(add(3,4))\n",
        "\n",
        "# 2. 입력이 없고, 리턴도 없는 함수\n",
        "def a():\n",
        "  print('입력이 없고 리턴도 없는 함수')\n",
        "\n",
        "a()\n",
        "\n",
        "# 3. 입력이 있고, 리턴이 없는 함수\n",
        "# def b(name):\n",
        "#   print(name. '님을 환영합니다.')\n",
        "\n",
        "# b('이광훈')\n",
        "\n",
        "# 4. 입력이 없고, 리턴은 있는 함수\n",
        "def c():\n",
        "  return 'hi'\n",
        "\n",
        "c()"
      ],
      "metadata": {
        "colab": {
          "base_uri": "https://localhost:8080/",
          "height": 72
        },
        "id": "k8a8cw00ZNkQ",
        "outputId": "532ac0db-dc0b-454a-d604-95f456f6ac17"
      },
      "execution_count": 98,
      "outputs": [
        {
          "output_type": "stream",
          "name": "stdout",
          "text": [
            "7\n",
            "입력이 없고 리턴도 없는 함수\n"
          ]
        },
        {
          "output_type": "execute_result",
          "data": {
            "text/plain": [
              "'hi'"
            ],
            "application/vnd.google.colaboratory.intrinsic+json": {
              "type": "string"
            }
          },
          "metadata": {},
          "execution_count": 98
        }
      ]
    },
    {
      "cell_type": "code",
      "source": [
        "def add(a,b):\n",
        "  return a + b\n",
        "\n",
        "print(add(3,4))\n",
        "\n",
        "def add2(a,b,c):\n",
        "  return a + b +c\n",
        "\n",
        "print(add2(3,4,5))\n",
        "\n",
        "def add3(a,b,c,d):\n",
        "  return a + b +c+d\n",
        "\n",
        "print(add3(3,4,5,6))"
      ],
      "metadata": {
        "colab": {
          "base_uri": "https://localhost:8080/"
        },
        "id": "JDyxxdg6ztNB",
        "outputId": "936c4a58-bdcb-42fa-b291-2da3b04974b5"
      },
      "execution_count": 99,
      "outputs": [
        {
          "output_type": "stream",
          "name": "stdout",
          "text": [
            "7\n",
            "12\n",
            "18\n"
          ]
        }
      ]
    },
    {
      "cell_type": "code",
      "source": [
        "def add_many(*args):   # *agre -> 입력된 값들을 모두 전부 모아서  튜플로 만들어 준다. 몇개가 들어오는 상관 안하겠다\n",
        "                      # 가변 매개변수\n",
        "  sum = 0\n",
        "  for i in args:\n",
        "    sum += i\n",
        "  return sum\n",
        "\n",
        "print(add_many(2,3,9,5))\n",
        "print(add_many(2))"
      ],
      "metadata": {
        "colab": {
          "base_uri": "https://localhost:8080/"
        },
        "id": "rJm_CjBs0NF1",
        "outputId": "e8c14505-2311-4257-bd09-f7f23462c18f"
      },
      "execution_count": 102,
      "outputs": [
        {
          "output_type": "stream",
          "name": "stdout",
          "text": [
            "19\n",
            "2\n"
          ]
        }
      ]
    },
    {
      "cell_type": "code",
      "source": [
        "# 변수의 영향 범위\n",
        "\n",
        "# 지역변수(***)와 전역변수    -> 지역변수를 쓰는 것이 좋다. \n",
        "\n",
        "a = 1              # a변수가 함수 밖에서 선언이 되었다. 전역변수\n",
        "def vartest(a):    # 함수 안에서의 a는 함수 밖에서의 a와는 완전히 다른 변수이다. \n",
        "  a += 1\n",
        "\n",
        "print(vartest(a))   # 2가 나와야하는데 none가 나온다. 이유는? return이 없기 때문에 가지고 나오는 값이 없다. \n",
        "print(a)            # 1      -> a가 전역변수(a=1)이기 때문에 "
      ],
      "metadata": {
        "colab": {
          "base_uri": "https://localhost:8080/"
        },
        "id": "pZ3ZVGhu1o6l",
        "outputId": "28210a07-291d-4e09-c6bd-469f0dbb67e2"
      },
      "execution_count": 105,
      "outputs": [
        {
          "output_type": "stream",
          "name": "stdout",
          "text": [
            "None\n",
            "1\n"
          ]
        }
      ]
    },
    {
      "cell_type": "code",
      "source": [
        "a = 1             \n",
        "def vartest(a):     \n",
        "  a += 1\n",
        "  return a         # 리턴 \n",
        "\n",
        "print(vartest(a))  \n",
        "print(a)         "
      ],
      "metadata": {
        "colab": {
          "base_uri": "https://localhost:8080/"
        },
        "id": "tIHIVKSN3jpe",
        "outputId": "867b6f54-6bdf-4820-f66c-83cb575e1eb7"
      },
      "execution_count": 108,
      "outputs": [
        {
          "output_type": "stream",
          "name": "stdout",
          "text": [
            "2\n",
            "1\n"
          ]
        }
      ]
    },
    {
      "cell_type": "code",
      "source": [
        "# 클래스와 객체\n",
        "\n",
        "# 클래스 정의 \n",
        "class Calculator:  \n",
        "  def __init__(self):     # 더블 언더스코어 -> '던더 이닛' 이라고 한다.\n",
        "    self.result = 0       # 생성자 constructor 객체를 생성할때 자동 호출되어 실행된다. \n",
        "\n",
        "  def add(self, num):     # 함수를 클래스 안에서 구현하면 메소드, 그 메소드를 객체가 호출하여 사용한다.\n",
        "    self.result += num\n",
        "    return self.result    # self -> 메서드의 매개변수 첫번째에 self를 사용하여 그 자리에는 호출한 객체명이 오게 된다. \n",
        "    \n",
        "\n",
        "# 메소드를 객체로 생성\n",
        "cal1 = Calculator()      # 객체를 생성할때 생성자가 호출되어 cal1.result = 0 으로 초기화된다. \n",
        "cal2 = Calculator()\n",
        "cal3 = Calculator()\n",
        "\n",
        "# 메소드 호출\n",
        "print(cal1.add(4))   \n",
        "print(cal2.add(7))\n",
        "print(cal3.add(9))"
      ],
      "metadata": {
        "colab": {
          "base_uri": "https://localhost:8080/"
        },
        "id": "Vjo5Izu7386Q",
        "outputId": "495b7fd3-09b6-44ed-fcf1-407cd16642e3"
      },
      "execution_count": 110,
      "outputs": [
        {
          "output_type": "stream",
          "name": "stdout",
          "text": [
            "4\n",
            "7\n",
            "9\n"
          ]
        }
      ]
    },
    {
      "cell_type": "code",
      "source": [
        "print(cal1.add(4))   \n",
        "print(cal2.add(7))\n",
        "print(cal3.add(9))"
      ],
      "metadata": {
        "colab": {
          "base_uri": "https://localhost:8080/"
        },
        "id": "e_baxCLL_dRt",
        "outputId": "e4887f0b-fc6d-4421-9236-fa1570c357ac"
      },
      "execution_count": 114,
      "outputs": [
        {
          "output_type": "stream",
          "name": "stdout",
          "text": [
            "20\n",
            "35\n",
            "45\n"
          ]
        }
      ]
    },
    {
      "cell_type": "code",
      "source": [
        "print(cal1.add(2))"
      ],
      "metadata": {
        "colab": {
          "base_uri": "https://localhost:8080/"
        },
        "id": "UdOEZDk7_wdP",
        "outputId": "a38a7524-1ed9-456e-82c3-e19a28b22b55"
      },
      "execution_count": 116,
      "outputs": [
        {
          "output_type": "stream",
          "name": "stdout",
          "text": [
            "24\n"
          ]
        }
      ]
    },
    {
      "cell_type": "code",
      "source": [
        "# 객체와 인스턴스의 차이\n",
        "\n",
        "# 클래스로 만든 객체를 인스턴스라고도 한다. 그러면 객체와 인스턴스의 차이는 무엇일까?\n",
        "# a = Calculator() 이렇게 만든 a는 객체이다. \n",
        "# a는 calculator() 클래스로 만든 인스턴스이다. \n",
        "# 즉, 인스턴스라는 표현은 객체가 어떤 클래스로 만든 건지를 관계 위주로 설명할때 사용한다. \n",
        "# 다시 한번 표현하면, 'a는 인스턴스다' 라는 것은 어색하다. 이것보다 'a는 객체다' 라는 표현이 더 어울린다.\n",
        "#'a는 Calculator 클래스의 객체다' 라는 표현보다는 'a는 Calculator 클래스의 인스턴스다' 라는 표현이 더 적절하다. \n"
      ],
      "metadata": {
        "id": "b152r7OM_6aE"
      },
      "execution_count": null,
      "outputs": []
    },
    {
      "cell_type": "code",
      "source": [
        "# 사칙연산 계산 클래스 -> 계산기 객체를 생성 -> 사칙연산은  메소드로 구현한다. \n",
        "\n",
        "class FourCal:\n",
        "  def __init__(self,first,second):     # 생성자 ;객체 생성시 자동 실행\n",
        "    self.first = first\n",
        "    self.second = second\n",
        "\n",
        "  # def setdata(self, first, second):  # 객체별 변수 선언 매서드\n",
        "  #   self.first = first\n",
        "  #   self.second = second\n",
        "\n",
        "  def add(self):\n",
        "    result = self.first + self.second\n",
        "    return result\n",
        "  def mul(self):\n",
        "    result = self.first * self.second\n",
        "    return result\n",
        "  def sub(self):\n",
        "    result = self.first - self.second\n",
        "    return result\n",
        "  def div(self):\n",
        "    result = self.first / self.second\n",
        "    return result\n",
        "\n",
        "a = FourCal(4,2)\n",
        "b = FourCal(3,5)\n",
        "\n",
        "# a.setdata(4,2)\n",
        "# b.setdata(3,5)\n",
        "\n",
        "b.add()\n",
        "\n",
        "# 객체마다 다른 고유의 변수값을 각각 따로 유지하게 된다. "
      ],
      "metadata": {
        "colab": {
          "base_uri": "https://localhost:8080/"
        },
        "id": "4I4XUPlrBTAv",
        "outputId": "e76d242a-4e6e-460b-9ad4-9aa763a3a9ce"
      },
      "execution_count": 148,
      "outputs": [
        {
          "output_type": "execute_result",
          "data": {
            "text/plain": [
              "8"
            ]
          },
          "metadata": {},
          "execution_count": 148
        }
      ]
    },
    {
      "cell_type": "code",
      "source": [
        "# 상속 inheritance   자바에서는 다중상속을 지원하지 않는다. 파이썬은 다중상속을 지원한다.\n",
        "# 상속을 사용하는 이유\n",
        "# 상속은 기존 클래스를 변경하지 않고 기능을 추가하거나 기존 기능을 변경할 때 사용한다. \n",
        "\n",
        "class MoreFourCal(FourCal):\n",
        "  pass\n",
        "\n",
        "c = MoreFourCal(4,2)\n",
        "c.add()"
      ],
      "metadata": {
        "colab": {
          "base_uri": "https://localhost:8080/"
        },
        "id": "29-eGULqF7IS",
        "outputId": "835e58ef-98d2-4d8a-cb00-afa01501cfaf"
      },
      "execution_count": 149,
      "outputs": [
        {
          "output_type": "execute_result",
          "data": {
            "text/plain": [
              "6"
            ]
          },
          "metadata": {},
          "execution_count": 149
        }
      ]
    },
    {
      "cell_type": "code",
      "source": [
        "a = FourCal(4,0)  # 기존 클래스에 문제가 있다. 0으로 나누면 오류가 발생한다. \n",
        "a.div()"
      ],
      "metadata": {
        "colab": {
          "base_uri": "https://localhost:8080/",
          "height": 321
        },
        "id": "t0QH6-8nLGk7",
        "outputId": "3682574c-9d73-46e7-bfdc-8ecbddd72da0"
      },
      "execution_count": 151,
      "outputs": [
        {
          "output_type": "error",
          "ename": "ZeroDivisionError",
          "evalue": "ignored",
          "traceback": [
            "\u001b[0;31m---------------------------------------------------------------------------\u001b[0m",
            "\u001b[0;31mZeroDivisionError\u001b[0m                         Traceback (most recent call last)",
            "\u001b[0;32m<ipython-input-151-89bc9f3746e5>\u001b[0m in \u001b[0;36m<module>\u001b[0;34m()\u001b[0m\n\u001b[1;32m      1\u001b[0m \u001b[0ma\u001b[0m \u001b[0;34m=\u001b[0m \u001b[0mFourCal\u001b[0m\u001b[0;34m(\u001b[0m\u001b[0;36m4\u001b[0m\u001b[0;34m,\u001b[0m\u001b[0;36m0\u001b[0m\u001b[0;34m)\u001b[0m  \u001b[0;31m# 기존 클래스에 문제가 있다. 0으로 나누면 오류가 발생한다.\u001b[0m\u001b[0;34m\u001b[0m\u001b[0;34m\u001b[0m\u001b[0m\n\u001b[0;32m----> 2\u001b[0;31m \u001b[0ma\u001b[0m\u001b[0;34m.\u001b[0m\u001b[0mdiv\u001b[0m\u001b[0;34m(\u001b[0m\u001b[0;34m)\u001b[0m\u001b[0;34m\u001b[0m\u001b[0;34m\u001b[0m\u001b[0m\n\u001b[0m",
            "\u001b[0;32m<ipython-input-148-be162e0e61b4>\u001b[0m in \u001b[0;36mdiv\u001b[0;34m(self)\u001b[0m\n\u001b[1;32m     20\u001b[0m     \u001b[0;32mreturn\u001b[0m \u001b[0mresult\u001b[0m\u001b[0;34m\u001b[0m\u001b[0;34m\u001b[0m\u001b[0m\n\u001b[1;32m     21\u001b[0m   \u001b[0;32mdef\u001b[0m \u001b[0mdiv\u001b[0m\u001b[0;34m(\u001b[0m\u001b[0mself\u001b[0m\u001b[0;34m)\u001b[0m\u001b[0;34m:\u001b[0m\u001b[0;34m\u001b[0m\u001b[0;34m\u001b[0m\u001b[0m\n\u001b[0;32m---> 22\u001b[0;31m     \u001b[0mresult\u001b[0m \u001b[0;34m=\u001b[0m \u001b[0mself\u001b[0m\u001b[0;34m.\u001b[0m\u001b[0mfirst\u001b[0m \u001b[0;34m/\u001b[0m \u001b[0mself\u001b[0m\u001b[0;34m.\u001b[0m\u001b[0msecond\u001b[0m\u001b[0;34m\u001b[0m\u001b[0;34m\u001b[0m\u001b[0m\n\u001b[0m\u001b[1;32m     23\u001b[0m     \u001b[0;32mreturn\u001b[0m \u001b[0mresult\u001b[0m\u001b[0;34m\u001b[0m\u001b[0;34m\u001b[0m\u001b[0m\n\u001b[1;32m     24\u001b[0m \u001b[0;34m\u001b[0m\u001b[0m\n",
            "\u001b[0;31mZeroDivisionError\u001b[0m: division by zero"
          ]
        }
      ]
    },
    {
      "cell_type": "code",
      "source": [
        "class SafeFourCal(FourCal):\n",
        "  def div(self):                # 상속받은 FourCal 에 동일한 이름의 메소드를 자식 클래스가 오버라이드\n",
        "    if self.second == 0:\n",
        "      return 0\n",
        "    else:\n",
        "      return self.first / self.second"
      ],
      "metadata": {
        "id": "GQGjKj0WLXRe"
      },
      "execution_count": 154,
      "outputs": []
    },
    {
      "cell_type": "code",
      "source": [
        "a = SafeFourCal(4,0)  \n",
        "a.div()  # FourCal 클래스를 상속한 SafeFourCal클래스의 div가 호출되어 , 즉 자식의 매서드가 호출 "
      ],
      "metadata": {
        "colab": {
          "base_uri": "https://localhost:8080/"
        },
        "id": "8unVL0WaL776",
        "outputId": "5e54d176-f492-4e1d-beee-7f67a872f0a9"
      },
      "execution_count": 155,
      "outputs": [
        {
          "output_type": "execute_result",
          "data": {
            "text/plain": [
              "0"
            ]
          },
          "metadata": {},
          "execution_count": 155
        }
      ]
    },
    {
      "cell_type": "code",
      "source": [
        "# 클래스 변수 -> 사용하지 말자!!!\n",
        "\n",
        "# 객체 변수는 다른 객체들에 영향을 받지 않고 독립적으로 그 값을 유지한다. (객체지향의 핵심)\n",
        "\n",
        "class Family:\n",
        "  lastname = \"김\"          # 클래스 변수\n",
        "\n",
        "a = Family()               # 객체를 생성\n",
        "print(a.lastname)                 # 객체를 통해서 변수 접근(메소드 접근)\n",
        "\n",
        "b = Family()               # 객체를 생성\n",
        "print(b.lastname)                 # 객체를 통해서 변수 접근(메소드 접근)\n",
        "\n",
        "print(Family.lastname)              # 클래스 변수는 객체를 생성하지 않고도 클래스명.변수명 으로 접근 가능하다.\n"
      ],
      "metadata": {
        "colab": {
          "base_uri": "https://localhost:8080/"
        },
        "id": "jBx-2V59Mo0z",
        "outputId": "28000e63-249f-4b39-dcdf-711bdefc4753"
      },
      "execution_count": 144,
      "outputs": [
        {
          "output_type": "stream",
          "name": "stdout",
          "text": [
            "김\n",
            "김\n",
            "김\n"
          ]
        }
      ]
    },
    {
      "cell_type": "code",
      "source": [
        "Family.lastname =\"최\"\n",
        "print(a.lastname)\n",
        "print(b.lastname)"
      ],
      "metadata": {
        "colab": {
          "base_uri": "https://localhost:8080/"
        },
        "id": "9D9hpfG_OOFL",
        "outputId": "7070ad51-2277-4e00-a4db-8da105612e7f"
      },
      "execution_count": 145,
      "outputs": [
        {
          "output_type": "stream",
          "name": "stdout",
          "text": [
            "최\n",
            "최\n"
          ]
        }
      ]
    },
    {
      "cell_type": "code",
      "source": [
        "#"
      ],
      "metadata": {
        "id": "Ymot8cBcNh6y"
      },
      "execution_count": null,
      "outputs": []
    }
  ]
}