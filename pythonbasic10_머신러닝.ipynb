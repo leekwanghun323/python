{
  "nbformat": 4,
  "nbformat_minor": 0,
  "metadata": {
    "colab": {
      "name": "pythonbasic10_머신러닝.ipynb",
      "provenance": [],
      "authorship_tag": "ABX9TyPa2I2JncDn0s8Z/ELV2RCw",
      "include_colab_link": true
    },
    "kernelspec": {
      "name": "python3",
      "display_name": "Python 3"
    },
    "language_info": {
      "name": "python"
    }
  },
  "cells": [
    {
      "cell_type": "markdown",
      "metadata": {
        "id": "view-in-github",
        "colab_type": "text"
      },
      "source": [
        "<a href=\"https://colab.research.google.com/github/leekwanghun323/python/blob/main/pythonbasic10_%EB%A8%B8%EC%8B%A0%EB%9F%AC%EB%8B%9D.ipynb\" target=\"_parent\"><img src=\"https://colab.research.google.com/assets/colab-badge.svg\" alt=\"Open In Colab\"/></a>"
      ]
    },
    {
      "cell_type": "code",
      "execution_count": null,
      "metadata": {
        "id": "AbVX_pVt9JN1"
      },
      "outputs": [],
      "source": [
        "# Al > ML > DL "
      ]
    },
    {
      "cell_type": "code",
      "source": [
        "# 지도 학습(supervised Learning)과 비지도 학습(unsupervised Learning)\n",
        "\n",
        "# 지도 학습(supervised Learning) \n",
        "# 문제와 정답을 함께 제시한다. \n",
        "# 컴퓨터가 문제 학습을 통해서 정답을 찾는 모델을 만들어낸다.\n",
        "\n",
        "# 비지도 학습(unsupervised Learning)\n",
        "# 문제만 제시한다. \n",
        "# 컴퓨터가 문제 학습을 통해서 정답을 찾는 모델을 만들어낸다.\n",
        "\n",
        "# 회귀 regression \n",
        "#- 주가 예측, 코인 예측, 부동산 예측, 금값 예측 ... \n",
        "\n",
        "# 분류 classification\n",
        "# - 붓꽃 분류, 생존 분류, 손글씨, 음악 분류 ..."
      ],
      "metadata": {
        "id": "BtrKOPJ-9r1d"
      },
      "execution_count": null,
      "outputs": []
    },
    {
      "cell_type": "code",
      "source": [
        "# 머신러닝 프로세스\n",
        "\n",
        "# 1. 문제     파악 - 배경 이해, 분석 목표 설정, 분석 일정, 데이터 확보\n",
        "# 2. 데이터   탐색 - 결측치, 이상치 파악, 데이터 분포, 상관 관계\n",
        "# 3. 데이터 전처리 - 결측치, 이상치 처리, 자료형 변환, 속성을 추가 생성, \n",
        "# ------------------------------------------------------------------ 사람의 영역\n",
        "# 4. 모 델   학 습 - 훈련용/검증용으로 데이터를 분활(*********), 알고리즘 선택, 모델링, 성능 평가, 하이퍼 파라미터 튜닝\n",
        "# 5. 예         측 - 학습한 모델에 새로운 데이터로 예측"
      ],
      "metadata": {
        "id": "mIEurF0QAagm"
      },
      "execution_count": null,
      "outputs": []
    }
  ]
}